{
  "nbformat": 4,
  "nbformat_minor": 0,
  "metadata": {
    "colab": {
      "provenance": [],
      "collapsed_sections": [],
      "mount_file_id": "19AE8535EGXUZYrOSGjgCVd0O2o0w4gFm",
      "authorship_tag": "ABX9TyMhZ9nq1suBrFs4oZxevC+d",
      "include_colab_link": true
    },
    "kernelspec": {
      "name": "python3",
      "display_name": "Python 3"
    },
    "language_info": {
      "name": "python"
    }
  },
  "cells": [
    {
      "cell_type": "markdown",
      "metadata": {
        "id": "view-in-github",
        "colab_type": "text"
      },
      "source": [
        "<a href=\"https://colab.research.google.com/github/rndrpp/Fish-Productions-Clustering/blob/main/Fish_Productions_Clustering.ipynb\" target=\"_parent\"><img src=\"https://colab.research.google.com/assets/colab-badge.svg\" alt=\"Open In Colab\"/></a>"
      ]
    },
    {
      "cell_type": "markdown",
      "source": [
        "# To-Do List\n",
        "\n",
        "**Objective**: Help developing the best unsupervised model for future fishing production insight.\n",
        "\n",
        "**To-do**:\n",
        "\n",
        "**EDA is not needed**\n",
        "\n",
        "**Data Preprocessing**\n",
        "\n",
        "*Cleaning*\n",
        "- Fill missing values if any\n",
        "- Drop duplicates if any\n",
        "*Encoding*\n",
        "- Encode categorical data\n",
        "*Scaling*\n",
        "- Scaling to normalize the data\n",
        "\n",
        "**Modelling Algorithm**\n",
        "- We'll try Agglomerative, BIRCH, or GMM\n",
        "\n",
        "**Cluster Visualization**\n",
        "- Use PCA to visualize the clustering result\n",
        "\n",
        "**Finalized Model**\n",
        "- Save the model to use it later\n",
        "\n",
        "**Post Processing**\n",
        "- Define suitable label for the labeling result"
      ],
      "metadata": {
        "id": "Q9O7bHYaZ8IB"
      }
    },
    {
      "cell_type": "markdown",
      "source": [
        "# Import Libraries"
      ],
      "metadata": {
        "id": "w0rZeZrnZEeL"
      }
    },
    {
      "cell_type": "code",
      "execution_count": null,
      "metadata": {
        "id": "0H-Qfdw3-v_a"
      },
      "outputs": [],
      "source": [
        "import pandas as pd\n",
        "import numpy as np\n",
        "import matplotlib.pyplot as plt\n",
        "import seaborn as sns\n",
        "from sklearn.preprocessing import RobustScaler, LabelEncoder\n",
        "from sklearn.decomposition import PCA\n",
        "from sklearn.pipeline import make_pipeline\n",
        "from sklearn.cluster import AgglomerativeClustering, Birch\n",
        "from sklearn.mixture import GaussianMixture\n",
        "from sklearn.metrics import silhouette_score, calinski_harabasz_score\n",
        "import scipy.cluster.hierarchy as shc\n",
        "import pickle\n",
        "\n",
        "sns.set_theme(style=\"darkgrid\")\n",
        "sns.set_palette(\"tab10\")"
      ]
    },
    {
      "cell_type": "markdown",
      "source": [
        "# Import Dataset"
      ],
      "metadata": {
        "id": "q4rXMW9-gzCy"
      }
    },
    {
      "cell_type": "code",
      "source": [
        "df_og = pd.read_hdf('/content/drive/MyDrive/Data_20220926.h5')\n",
        "\n",
        "df_og.head()"
      ],
      "metadata": {
        "colab": {
          "base_uri": "https://localhost:8080/",
          "height": 206
        },
        "id": "OSLvNg2_XnIp",
        "outputId": "5687d5e5-c544-47e0-912c-ac4c95d95bc8"
      },
      "execution_count": null,
      "outputs": [
        {
          "output_type": "execute_result",
          "data": {
            "text/plain": [
              "  Jenis Usaha Provinsi Jenis Ikan  Tahun  Volume Produksi  Nilai Produksi\n",
              "0    BUDIDAYA   BANTEN    BANDENG   2010         11071.00      82781877.0\n",
              "1    BUDIDAYA   BANTEN    BANDENG   2011          9542.74     124055620.0\n",
              "2    BUDIDAYA   BANTEN    BANDENG   2012          8739.46     239161200.0\n",
              "3    BUDIDAYA   BANTEN    BANDENG   2013         10997.10     171425024.0\n",
              "4    BUDIDAYA   BANTEN    BANDENG   2014         11141.62     174132000.0"
            ],
            "text/html": [
              "\n",
              "  <div id=\"df-e2f61e8c-712d-487c-91b9-d459fe6666c5\">\n",
              "    <div class=\"colab-df-container\">\n",
              "      <div>\n",
              "<style scoped>\n",
              "    .dataframe tbody tr th:only-of-type {\n",
              "        vertical-align: middle;\n",
              "    }\n",
              "\n",
              "    .dataframe tbody tr th {\n",
              "        vertical-align: top;\n",
              "    }\n",
              "\n",
              "    .dataframe thead th {\n",
              "        text-align: right;\n",
              "    }\n",
              "</style>\n",
              "<table border=\"1\" class=\"dataframe\">\n",
              "  <thead>\n",
              "    <tr style=\"text-align: right;\">\n",
              "      <th></th>\n",
              "      <th>Jenis Usaha</th>\n",
              "      <th>Provinsi</th>\n",
              "      <th>Jenis Ikan</th>\n",
              "      <th>Tahun</th>\n",
              "      <th>Volume Produksi</th>\n",
              "      <th>Nilai Produksi</th>\n",
              "    </tr>\n",
              "  </thead>\n",
              "  <tbody>\n",
              "    <tr>\n",
              "      <th>0</th>\n",
              "      <td>BUDIDAYA</td>\n",
              "      <td>BANTEN</td>\n",
              "      <td>BANDENG</td>\n",
              "      <td>2010</td>\n",
              "      <td>11071.00</td>\n",
              "      <td>82781877.0</td>\n",
              "    </tr>\n",
              "    <tr>\n",
              "      <th>1</th>\n",
              "      <td>BUDIDAYA</td>\n",
              "      <td>BANTEN</td>\n",
              "      <td>BANDENG</td>\n",
              "      <td>2011</td>\n",
              "      <td>9542.74</td>\n",
              "      <td>124055620.0</td>\n",
              "    </tr>\n",
              "    <tr>\n",
              "      <th>2</th>\n",
              "      <td>BUDIDAYA</td>\n",
              "      <td>BANTEN</td>\n",
              "      <td>BANDENG</td>\n",
              "      <td>2012</td>\n",
              "      <td>8739.46</td>\n",
              "      <td>239161200.0</td>\n",
              "    </tr>\n",
              "    <tr>\n",
              "      <th>3</th>\n",
              "      <td>BUDIDAYA</td>\n",
              "      <td>BANTEN</td>\n",
              "      <td>BANDENG</td>\n",
              "      <td>2013</td>\n",
              "      <td>10997.10</td>\n",
              "      <td>171425024.0</td>\n",
              "    </tr>\n",
              "    <tr>\n",
              "      <th>4</th>\n",
              "      <td>BUDIDAYA</td>\n",
              "      <td>BANTEN</td>\n",
              "      <td>BANDENG</td>\n",
              "      <td>2014</td>\n",
              "      <td>11141.62</td>\n",
              "      <td>174132000.0</td>\n",
              "    </tr>\n",
              "  </tbody>\n",
              "</table>\n",
              "</div>\n",
              "      <button class=\"colab-df-convert\" onclick=\"convertToInteractive('df-e2f61e8c-712d-487c-91b9-d459fe6666c5')\"\n",
              "              title=\"Convert this dataframe to an interactive table.\"\n",
              "              style=\"display:none;\">\n",
              "        \n",
              "  <svg xmlns=\"http://www.w3.org/2000/svg\" height=\"24px\"viewBox=\"0 0 24 24\"\n",
              "       width=\"24px\">\n",
              "    <path d=\"M0 0h24v24H0V0z\" fill=\"none\"/>\n",
              "    <path d=\"M18.56 5.44l.94 2.06.94-2.06 2.06-.94-2.06-.94-.94-2.06-.94 2.06-2.06.94zm-11 1L8.5 8.5l.94-2.06 2.06-.94-2.06-.94L8.5 2.5l-.94 2.06-2.06.94zm10 10l.94 2.06.94-2.06 2.06-.94-2.06-.94-.94-2.06-.94 2.06-2.06.94z\"/><path d=\"M17.41 7.96l-1.37-1.37c-.4-.4-.92-.59-1.43-.59-.52 0-1.04.2-1.43.59L10.3 9.45l-7.72 7.72c-.78.78-.78 2.05 0 2.83L4 21.41c.39.39.9.59 1.41.59.51 0 1.02-.2 1.41-.59l7.78-7.78 2.81-2.81c.8-.78.8-2.07 0-2.86zM5.41 20L4 18.59l7.72-7.72 1.47 1.35L5.41 20z\"/>\n",
              "  </svg>\n",
              "      </button>\n",
              "      \n",
              "  <style>\n",
              "    .colab-df-container {\n",
              "      display:flex;\n",
              "      flex-wrap:wrap;\n",
              "      gap: 12px;\n",
              "    }\n",
              "\n",
              "    .colab-df-convert {\n",
              "      background-color: #E8F0FE;\n",
              "      border: none;\n",
              "      border-radius: 50%;\n",
              "      cursor: pointer;\n",
              "      display: none;\n",
              "      fill: #1967D2;\n",
              "      height: 32px;\n",
              "      padding: 0 0 0 0;\n",
              "      width: 32px;\n",
              "    }\n",
              "\n",
              "    .colab-df-convert:hover {\n",
              "      background-color: #E2EBFA;\n",
              "      box-shadow: 0px 1px 2px rgba(60, 64, 67, 0.3), 0px 1px 3px 1px rgba(60, 64, 67, 0.15);\n",
              "      fill: #174EA6;\n",
              "    }\n",
              "\n",
              "    [theme=dark] .colab-df-convert {\n",
              "      background-color: #3B4455;\n",
              "      fill: #D2E3FC;\n",
              "    }\n",
              "\n",
              "    [theme=dark] .colab-df-convert:hover {\n",
              "      background-color: #434B5C;\n",
              "      box-shadow: 0px 1px 3px 1px rgba(0, 0, 0, 0.15);\n",
              "      filter: drop-shadow(0px 1px 2px rgba(0, 0, 0, 0.3));\n",
              "      fill: #FFFFFF;\n",
              "    }\n",
              "  </style>\n",
              "\n",
              "      <script>\n",
              "        const buttonEl =\n",
              "          document.querySelector('#df-e2f61e8c-712d-487c-91b9-d459fe6666c5 button.colab-df-convert');\n",
              "        buttonEl.style.display =\n",
              "          google.colab.kernel.accessAllowed ? 'block' : 'none';\n",
              "\n",
              "        async function convertToInteractive(key) {\n",
              "          const element = document.querySelector('#df-e2f61e8c-712d-487c-91b9-d459fe6666c5');\n",
              "          const dataTable =\n",
              "            await google.colab.kernel.invokeFunction('convertToInteractive',\n",
              "                                                     [key], {});\n",
              "          if (!dataTable) return;\n",
              "\n",
              "          const docLinkHtml = 'Like what you see? Visit the ' +\n",
              "            '<a target=\"_blank\" href=https://colab.research.google.com/notebooks/data_table.ipynb>data table notebook</a>'\n",
              "            + ' to learn more about interactive tables.';\n",
              "          element.innerHTML = '';\n",
              "          dataTable['output_type'] = 'display_data';\n",
              "          await google.colab.output.renderOutput(dataTable, element);\n",
              "          const docLink = document.createElement('div');\n",
              "          docLink.innerHTML = docLinkHtml;\n",
              "          element.appendChild(docLink);\n",
              "        }\n",
              "      </script>\n",
              "    </div>\n",
              "  </div>\n",
              "  "
            ]
          },
          "metadata": {},
          "execution_count": 149
        }
      ]
    },
    {
      "cell_type": "code",
      "source": [
        "df_og.info()"
      ],
      "metadata": {
        "colab": {
          "base_uri": "https://localhost:8080/"
        },
        "id": "_FvcDUAKYSKX",
        "outputId": "c450e40b-2c4b-40c3-fcbc-fbdb5882432e"
      },
      "execution_count": null,
      "outputs": [
        {
          "output_type": "stream",
          "name": "stdout",
          "text": [
            "<class 'pandas.core.frame.DataFrame'>\n",
            "Int64Index: 4191 entries, 0 to 4190\n",
            "Data columns (total 6 columns):\n",
            " #   Column           Non-Null Count  Dtype  \n",
            "---  ------           --------------  -----  \n",
            " 0   Jenis Usaha      4191 non-null   object \n",
            " 1   Provinsi         4191 non-null   object \n",
            " 2   Jenis Ikan       4191 non-null   object \n",
            " 3   Tahun            4191 non-null   int64  \n",
            " 4   Volume Produksi  4191 non-null   float64\n",
            " 5   Nilai Produksi   4191 non-null   float64\n",
            "dtypes: float64(2), int64(1), object(3)\n",
            "memory usage: 229.2+ KB\n"
          ]
        }
      ]
    },
    {
      "cell_type": "code",
      "source": [
        "df_og.describe()"
      ],
      "metadata": {
        "colab": {
          "base_uri": "https://localhost:8080/",
          "height": 300
        },
        "id": "jDhe10HpYUiy",
        "outputId": "d2e609db-3127-46ad-f133-5fc5c34cb138"
      },
      "execution_count": null,
      "outputs": [
        {
          "output_type": "execute_result",
          "data": {
            "text/plain": [
              "             Tahun  Volume Produksi  Nilai Produksi\n",
              "count  4191.000000      4191.000000    4.191000e+03\n",
              "mean   2016.303508     11328.691842    1.979619e+08\n",
              "std       3.692020     43858.337896    7.160106e+08\n",
              "min    2010.000000         0.000000    0.000000e+00\n",
              "25%    2013.000000        30.970000    6.552000e+02\n",
              "50%    2016.000000       469.310000    9.273500e+06\n",
              "75%    2020.000000      4028.190000    7.997198e+07\n",
              "max    2021.000000    699235.920000    1.350065e+10"
            ],
            "text/html": [
              "\n",
              "  <div id=\"df-3db6a3f1-196f-4886-bd00-95398394873f\">\n",
              "    <div class=\"colab-df-container\">\n",
              "      <div>\n",
              "<style scoped>\n",
              "    .dataframe tbody tr th:only-of-type {\n",
              "        vertical-align: middle;\n",
              "    }\n",
              "\n",
              "    .dataframe tbody tr th {\n",
              "        vertical-align: top;\n",
              "    }\n",
              "\n",
              "    .dataframe thead th {\n",
              "        text-align: right;\n",
              "    }\n",
              "</style>\n",
              "<table border=\"1\" class=\"dataframe\">\n",
              "  <thead>\n",
              "    <tr style=\"text-align: right;\">\n",
              "      <th></th>\n",
              "      <th>Tahun</th>\n",
              "      <th>Volume Produksi</th>\n",
              "      <th>Nilai Produksi</th>\n",
              "    </tr>\n",
              "  </thead>\n",
              "  <tbody>\n",
              "    <tr>\n",
              "      <th>count</th>\n",
              "      <td>4191.000000</td>\n",
              "      <td>4191.000000</td>\n",
              "      <td>4.191000e+03</td>\n",
              "    </tr>\n",
              "    <tr>\n",
              "      <th>mean</th>\n",
              "      <td>2016.303508</td>\n",
              "      <td>11328.691842</td>\n",
              "      <td>1.979619e+08</td>\n",
              "    </tr>\n",
              "    <tr>\n",
              "      <th>std</th>\n",
              "      <td>3.692020</td>\n",
              "      <td>43858.337896</td>\n",
              "      <td>7.160106e+08</td>\n",
              "    </tr>\n",
              "    <tr>\n",
              "      <th>min</th>\n",
              "      <td>2010.000000</td>\n",
              "      <td>0.000000</td>\n",
              "      <td>0.000000e+00</td>\n",
              "    </tr>\n",
              "    <tr>\n",
              "      <th>25%</th>\n",
              "      <td>2013.000000</td>\n",
              "      <td>30.970000</td>\n",
              "      <td>6.552000e+02</td>\n",
              "    </tr>\n",
              "    <tr>\n",
              "      <th>50%</th>\n",
              "      <td>2016.000000</td>\n",
              "      <td>469.310000</td>\n",
              "      <td>9.273500e+06</td>\n",
              "    </tr>\n",
              "    <tr>\n",
              "      <th>75%</th>\n",
              "      <td>2020.000000</td>\n",
              "      <td>4028.190000</td>\n",
              "      <td>7.997198e+07</td>\n",
              "    </tr>\n",
              "    <tr>\n",
              "      <th>max</th>\n",
              "      <td>2021.000000</td>\n",
              "      <td>699235.920000</td>\n",
              "      <td>1.350065e+10</td>\n",
              "    </tr>\n",
              "  </tbody>\n",
              "</table>\n",
              "</div>\n",
              "      <button class=\"colab-df-convert\" onclick=\"convertToInteractive('df-3db6a3f1-196f-4886-bd00-95398394873f')\"\n",
              "              title=\"Convert this dataframe to an interactive table.\"\n",
              "              style=\"display:none;\">\n",
              "        \n",
              "  <svg xmlns=\"http://www.w3.org/2000/svg\" height=\"24px\"viewBox=\"0 0 24 24\"\n",
              "       width=\"24px\">\n",
              "    <path d=\"M0 0h24v24H0V0z\" fill=\"none\"/>\n",
              "    <path d=\"M18.56 5.44l.94 2.06.94-2.06 2.06-.94-2.06-.94-.94-2.06-.94 2.06-2.06.94zm-11 1L8.5 8.5l.94-2.06 2.06-.94-2.06-.94L8.5 2.5l-.94 2.06-2.06.94zm10 10l.94 2.06.94-2.06 2.06-.94-2.06-.94-.94-2.06-.94 2.06-2.06.94z\"/><path d=\"M17.41 7.96l-1.37-1.37c-.4-.4-.92-.59-1.43-.59-.52 0-1.04.2-1.43.59L10.3 9.45l-7.72 7.72c-.78.78-.78 2.05 0 2.83L4 21.41c.39.39.9.59 1.41.59.51 0 1.02-.2 1.41-.59l7.78-7.78 2.81-2.81c.8-.78.8-2.07 0-2.86zM5.41 20L4 18.59l7.72-7.72 1.47 1.35L5.41 20z\"/>\n",
              "  </svg>\n",
              "      </button>\n",
              "      \n",
              "  <style>\n",
              "    .colab-df-container {\n",
              "      display:flex;\n",
              "      flex-wrap:wrap;\n",
              "      gap: 12px;\n",
              "    }\n",
              "\n",
              "    .colab-df-convert {\n",
              "      background-color: #E8F0FE;\n",
              "      border: none;\n",
              "      border-radius: 50%;\n",
              "      cursor: pointer;\n",
              "      display: none;\n",
              "      fill: #1967D2;\n",
              "      height: 32px;\n",
              "      padding: 0 0 0 0;\n",
              "      width: 32px;\n",
              "    }\n",
              "\n",
              "    .colab-df-convert:hover {\n",
              "      background-color: #E2EBFA;\n",
              "      box-shadow: 0px 1px 2px rgba(60, 64, 67, 0.3), 0px 1px 3px 1px rgba(60, 64, 67, 0.15);\n",
              "      fill: #174EA6;\n",
              "    }\n",
              "\n",
              "    [theme=dark] .colab-df-convert {\n",
              "      background-color: #3B4455;\n",
              "      fill: #D2E3FC;\n",
              "    }\n",
              "\n",
              "    [theme=dark] .colab-df-convert:hover {\n",
              "      background-color: #434B5C;\n",
              "      box-shadow: 0px 1px 3px 1px rgba(0, 0, 0, 0.15);\n",
              "      filter: drop-shadow(0px 1px 2px rgba(0, 0, 0, 0.3));\n",
              "      fill: #FFFFFF;\n",
              "    }\n",
              "  </style>\n",
              "\n",
              "      <script>\n",
              "        const buttonEl =\n",
              "          document.querySelector('#df-3db6a3f1-196f-4886-bd00-95398394873f button.colab-df-convert');\n",
              "        buttonEl.style.display =\n",
              "          google.colab.kernel.accessAllowed ? 'block' : 'none';\n",
              "\n",
              "        async function convertToInteractive(key) {\n",
              "          const element = document.querySelector('#df-3db6a3f1-196f-4886-bd00-95398394873f');\n",
              "          const dataTable =\n",
              "            await google.colab.kernel.invokeFunction('convertToInteractive',\n",
              "                                                     [key], {});\n",
              "          if (!dataTable) return;\n",
              "\n",
              "          const docLinkHtml = 'Like what you see? Visit the ' +\n",
              "            '<a target=\"_blank\" href=https://colab.research.google.com/notebooks/data_table.ipynb>data table notebook</a>'\n",
              "            + ' to learn more about interactive tables.';\n",
              "          element.innerHTML = '';\n",
              "          dataTable['output_type'] = 'display_data';\n",
              "          await google.colab.output.renderOutput(dataTable, element);\n",
              "          const docLink = document.createElement('div');\n",
              "          docLink.innerHTML = docLinkHtml;\n",
              "          element.appendChild(docLink);\n",
              "        }\n",
              "      </script>\n",
              "    </div>\n",
              "  </div>\n",
              "  "
            ]
          },
          "metadata": {},
          "execution_count": 151
        }
      ]
    },
    {
      "cell_type": "markdown",
      "source": [
        "Volume Produksi and Nilai Produksi are skewed so we'll see outliers on our clusters"
      ],
      "metadata": {
        "id": "YtliZnhjelF3"
      }
    },
    {
      "cell_type": "code",
      "source": [
        "cats = df_og.select_dtypes(include='object').columns.tolist()\n",
        "for cat in cats:\n",
        "    print(f'{cat} total unique value: {df_og[cat].nunique()}')\n",
        "    print(f'{cat} values: {df_og[cat].unique().tolist()} ', '\\n')"
      ],
      "metadata": {
        "colab": {
          "base_uri": "https://localhost:8080/"
        },
        "id": "f99zffMDf968",
        "outputId": "f6facdeb-4cef-4e90-97b9-52cfa7d2f9b9"
      },
      "execution_count": null,
      "outputs": [
        {
          "output_type": "stream",
          "name": "stdout",
          "text": [
            "Jenis Usaha total unique value: 3\n",
            "Jenis Usaha values: ['BUDIDAYA', 'TANGKAP LAUT', 'TANGKAP PUD']  \n",
            "\n",
            "Provinsi total unique value: 6\n",
            "Provinsi values: ['BANTEN', 'DAERAH ISTIMEWA YOGYAKARTA', 'DKI JAKARTA', 'JAWA BARAT', 'JAWA TENGAH', 'JAWA TIMUR']  \n",
            "\n",
            "Jenis Ikan total unique value: 132\n",
            "Jenis Ikan values: ['BANDENG', 'BAWAL', 'BELANAK', 'GURAMI', 'KAKAP', 'KEKERANGAN', 'KEPITING', 'KERANG', 'KERAPU', 'LAINNYA', 'LELE', 'LOBSTER', 'MAS', 'MUJAIR', 'NILA', 'PATIN', 'RUMPUT LAUT', 'TAWES', 'UDANG', 'GABUS', 'NILEM', 'KACI-KACI', 'LOBSTER TAWAR', 'SEPAT', 'SIDAT', 'IKAN LAINNYA', 'SEMAH', 'SULIR', 'BARONANG', 'BELUT LAUT', 'BETOK', 'DEPIK', 'KATAK', 'KERONG-KERONG', 'RAJUNGAN', 'TERI', 'TIRAM', 'ALU-ALU', 'AYAM-AYAM', 'BAUNG', 'BAYEMAN', 'BELIDA', 'BELOSO', 'BIJI NANGKA', 'BILIS', 'BULAN', 'CAKALANG', 'CUCUT', 'CUMI-CUMI', 'EKOR KUNING', 'GEROT-GEROT', 'GINDARA', 'GOLOK-GOLOK', 'GULAMAH', 'GURITA', 'HIU', 'JULUNG-JULUNG', 'KAKATUA', 'KAPAS-KAPAS', 'KEMBUNG', 'KURISI', 'KURO', 'KUWE', 'LAYANG', 'LAYARAN', 'LAYUR', 'LEMADANG', 'LEMURU', 'LENCAM', 'LIDAH', 'MAKEREL', 'MANFISH', 'MANYUNG', 'MARLIN', 'PARI', 'PEDANG', 'PENYU', 'PEPEREK', 'PISANG-PISANG', 'REJUNG', 'REMANG', 'SARDEN', 'SEBELAH', 'SELAR', 'SEMBILANG', 'SETUHUK', 'SOTONG', 'SUNGLIR', 'SWANGGI', 'TALANG-TALANG', 'TARDORE', 'TENGGIRI', 'TERBANG', 'TERIPANG', 'TERUBUK', 'TONGKOL', 'TUNA', 'SIPUT', 'UBUR-UBUR', 'KETANG-KETANG', 'SEMAR', 'BAJI-BAJI', 'DEMERSAL', 'LOWANG', 'PETEK', 'REMIS', 'BETOK LAUT', 'BETUTU', 'HARING', 'KEROT-KEROT', 'NYUNGLAS', 'PASIR-PASIR', 'SERINDING', 'BULU AYAM', 'BUNTAL', 'SLENGSENG', 'TETRA', 'BARBUS', 'BELUT TAWAR', 'LAIS', 'TOMAN', 'HAMPAL', 'JELAWAT', 'SELUANG', 'GUPI', 'LABI-LABI', 'RED DEVIL', 'BELUT', 'BILIH', 'IKAN UDANG', 'KENDIA', 'LALANG']  \n",
            "\n"
          ]
        }
      ]
    },
    {
      "cell_type": "code",
      "source": [
        "df_og[df_og['Jenis Ikan'].str.contains('LAINNYA')].sample(10)"
      ],
      "metadata": {
        "colab": {
          "base_uri": "https://localhost:8080/",
          "height": 363
        },
        "id": "UoU0N_A6erLZ",
        "outputId": "bb0956f7-351b-463c-fd4b-29024ce16f83"
      },
      "execution_count": null,
      "outputs": [
        {
          "output_type": "execute_result",
          "data": {
            "text/plain": [
              "       Jenis Usaha                    Provinsi Jenis Ikan  Tahun  \\\n",
              "3270   TANGKAP PUD  DAERAH ISTIMEWA YOGYAKARTA    LAINNYA   2014   \n",
              "2832  TANGKAP LAUT                  JAWA TIMUR    LAINNYA   2016   \n",
              "76        BUDIDAYA                      BANTEN    LAINNYA   2012   \n",
              "1192  TANGKAP LAUT                      BANTEN    LAINNYA   2019   \n",
              "1499  TANGKAP LAUT  DAERAH ISTIMEWA YOGYAKARTA    LAINNYA   2010   \n",
              "374       BUDIDAYA                 DKI JAKARTA    LAINNYA   2010   \n",
              "3269   TANGKAP PUD  DAERAH ISTIMEWA YOGYAKARTA    LAINNYA   2013   \n",
              "375       BUDIDAYA                 DKI JAKARTA    LAINNYA   2011   \n",
              "551       BUDIDAYA                  JAWA BARAT    LAINNYA   2018   \n",
              "79        BUDIDAYA                      BANTEN    LAINNYA   2015   \n",
              "\n",
              "      Volume Produksi  Nilai Produksi  \n",
              "3270           248.00    4.564067e+06  \n",
              "2832        231820.00    2.641477e+09  \n",
              "76            6657.97    6.250340e+07  \n",
              "1192         72184.21    1.634345e+09  \n",
              "1499          1639.00    9.175825e+06  \n",
              "374           3713.23    4.624542e+07  \n",
              "3269           197.00    3.340895e+06  \n",
              "375           2244.03    3.719467e+07  \n",
              "551          98405.64    2.299345e+09  \n",
              "79            4956.77    4.973800e+07  "
            ],
            "text/html": [
              "\n",
              "  <div id=\"df-0dffde33-15c2-4b64-a550-cccac22b10c7\">\n",
              "    <div class=\"colab-df-container\">\n",
              "      <div>\n",
              "<style scoped>\n",
              "    .dataframe tbody tr th:only-of-type {\n",
              "        vertical-align: middle;\n",
              "    }\n",
              "\n",
              "    .dataframe tbody tr th {\n",
              "        vertical-align: top;\n",
              "    }\n",
              "\n",
              "    .dataframe thead th {\n",
              "        text-align: right;\n",
              "    }\n",
              "</style>\n",
              "<table border=\"1\" class=\"dataframe\">\n",
              "  <thead>\n",
              "    <tr style=\"text-align: right;\">\n",
              "      <th></th>\n",
              "      <th>Jenis Usaha</th>\n",
              "      <th>Provinsi</th>\n",
              "      <th>Jenis Ikan</th>\n",
              "      <th>Tahun</th>\n",
              "      <th>Volume Produksi</th>\n",
              "      <th>Nilai Produksi</th>\n",
              "    </tr>\n",
              "  </thead>\n",
              "  <tbody>\n",
              "    <tr>\n",
              "      <th>3270</th>\n",
              "      <td>TANGKAP PUD</td>\n",
              "      <td>DAERAH ISTIMEWA YOGYAKARTA</td>\n",
              "      <td>LAINNYA</td>\n",
              "      <td>2014</td>\n",
              "      <td>248.00</td>\n",
              "      <td>4.564067e+06</td>\n",
              "    </tr>\n",
              "    <tr>\n",
              "      <th>2832</th>\n",
              "      <td>TANGKAP LAUT</td>\n",
              "      <td>JAWA TIMUR</td>\n",
              "      <td>LAINNYA</td>\n",
              "      <td>2016</td>\n",
              "      <td>231820.00</td>\n",
              "      <td>2.641477e+09</td>\n",
              "    </tr>\n",
              "    <tr>\n",
              "      <th>76</th>\n",
              "      <td>BUDIDAYA</td>\n",
              "      <td>BANTEN</td>\n",
              "      <td>LAINNYA</td>\n",
              "      <td>2012</td>\n",
              "      <td>6657.97</td>\n",
              "      <td>6.250340e+07</td>\n",
              "    </tr>\n",
              "    <tr>\n",
              "      <th>1192</th>\n",
              "      <td>TANGKAP LAUT</td>\n",
              "      <td>BANTEN</td>\n",
              "      <td>LAINNYA</td>\n",
              "      <td>2019</td>\n",
              "      <td>72184.21</td>\n",
              "      <td>1.634345e+09</td>\n",
              "    </tr>\n",
              "    <tr>\n",
              "      <th>1499</th>\n",
              "      <td>TANGKAP LAUT</td>\n",
              "      <td>DAERAH ISTIMEWA YOGYAKARTA</td>\n",
              "      <td>LAINNYA</td>\n",
              "      <td>2010</td>\n",
              "      <td>1639.00</td>\n",
              "      <td>9.175825e+06</td>\n",
              "    </tr>\n",
              "    <tr>\n",
              "      <th>374</th>\n",
              "      <td>BUDIDAYA</td>\n",
              "      <td>DKI JAKARTA</td>\n",
              "      <td>LAINNYA</td>\n",
              "      <td>2010</td>\n",
              "      <td>3713.23</td>\n",
              "      <td>4.624542e+07</td>\n",
              "    </tr>\n",
              "    <tr>\n",
              "      <th>3269</th>\n",
              "      <td>TANGKAP PUD</td>\n",
              "      <td>DAERAH ISTIMEWA YOGYAKARTA</td>\n",
              "      <td>LAINNYA</td>\n",
              "      <td>2013</td>\n",
              "      <td>197.00</td>\n",
              "      <td>3.340895e+06</td>\n",
              "    </tr>\n",
              "    <tr>\n",
              "      <th>375</th>\n",
              "      <td>BUDIDAYA</td>\n",
              "      <td>DKI JAKARTA</td>\n",
              "      <td>LAINNYA</td>\n",
              "      <td>2011</td>\n",
              "      <td>2244.03</td>\n",
              "      <td>3.719467e+07</td>\n",
              "    </tr>\n",
              "    <tr>\n",
              "      <th>551</th>\n",
              "      <td>BUDIDAYA</td>\n",
              "      <td>JAWA BARAT</td>\n",
              "      <td>LAINNYA</td>\n",
              "      <td>2018</td>\n",
              "      <td>98405.64</td>\n",
              "      <td>2.299345e+09</td>\n",
              "    </tr>\n",
              "    <tr>\n",
              "      <th>79</th>\n",
              "      <td>BUDIDAYA</td>\n",
              "      <td>BANTEN</td>\n",
              "      <td>LAINNYA</td>\n",
              "      <td>2015</td>\n",
              "      <td>4956.77</td>\n",
              "      <td>4.973800e+07</td>\n",
              "    </tr>\n",
              "  </tbody>\n",
              "</table>\n",
              "</div>\n",
              "      <button class=\"colab-df-convert\" onclick=\"convertToInteractive('df-0dffde33-15c2-4b64-a550-cccac22b10c7')\"\n",
              "              title=\"Convert this dataframe to an interactive table.\"\n",
              "              style=\"display:none;\">\n",
              "        \n",
              "  <svg xmlns=\"http://www.w3.org/2000/svg\" height=\"24px\"viewBox=\"0 0 24 24\"\n",
              "       width=\"24px\">\n",
              "    <path d=\"M0 0h24v24H0V0z\" fill=\"none\"/>\n",
              "    <path d=\"M18.56 5.44l.94 2.06.94-2.06 2.06-.94-2.06-.94-.94-2.06-.94 2.06-2.06.94zm-11 1L8.5 8.5l.94-2.06 2.06-.94-2.06-.94L8.5 2.5l-.94 2.06-2.06.94zm10 10l.94 2.06.94-2.06 2.06-.94-2.06-.94-.94-2.06-.94 2.06-2.06.94z\"/><path d=\"M17.41 7.96l-1.37-1.37c-.4-.4-.92-.59-1.43-.59-.52 0-1.04.2-1.43.59L10.3 9.45l-7.72 7.72c-.78.78-.78 2.05 0 2.83L4 21.41c.39.39.9.59 1.41.59.51 0 1.02-.2 1.41-.59l7.78-7.78 2.81-2.81c.8-.78.8-2.07 0-2.86zM5.41 20L4 18.59l7.72-7.72 1.47 1.35L5.41 20z\"/>\n",
              "  </svg>\n",
              "      </button>\n",
              "      \n",
              "  <style>\n",
              "    .colab-df-container {\n",
              "      display:flex;\n",
              "      flex-wrap:wrap;\n",
              "      gap: 12px;\n",
              "    }\n",
              "\n",
              "    .colab-df-convert {\n",
              "      background-color: #E8F0FE;\n",
              "      border: none;\n",
              "      border-radius: 50%;\n",
              "      cursor: pointer;\n",
              "      display: none;\n",
              "      fill: #1967D2;\n",
              "      height: 32px;\n",
              "      padding: 0 0 0 0;\n",
              "      width: 32px;\n",
              "    }\n",
              "\n",
              "    .colab-df-convert:hover {\n",
              "      background-color: #E2EBFA;\n",
              "      box-shadow: 0px 1px 2px rgba(60, 64, 67, 0.3), 0px 1px 3px 1px rgba(60, 64, 67, 0.15);\n",
              "      fill: #174EA6;\n",
              "    }\n",
              "\n",
              "    [theme=dark] .colab-df-convert {\n",
              "      background-color: #3B4455;\n",
              "      fill: #D2E3FC;\n",
              "    }\n",
              "\n",
              "    [theme=dark] .colab-df-convert:hover {\n",
              "      background-color: #434B5C;\n",
              "      box-shadow: 0px 1px 3px 1px rgba(0, 0, 0, 0.15);\n",
              "      filter: drop-shadow(0px 1px 2px rgba(0, 0, 0, 0.3));\n",
              "      fill: #FFFFFF;\n",
              "    }\n",
              "  </style>\n",
              "\n",
              "      <script>\n",
              "        const buttonEl =\n",
              "          document.querySelector('#df-0dffde33-15c2-4b64-a550-cccac22b10c7 button.colab-df-convert');\n",
              "        buttonEl.style.display =\n",
              "          google.colab.kernel.accessAllowed ? 'block' : 'none';\n",
              "\n",
              "        async function convertToInteractive(key) {\n",
              "          const element = document.querySelector('#df-0dffde33-15c2-4b64-a550-cccac22b10c7');\n",
              "          const dataTable =\n",
              "            await google.colab.kernel.invokeFunction('convertToInteractive',\n",
              "                                                     [key], {});\n",
              "          if (!dataTable) return;\n",
              "\n",
              "          const docLinkHtml = 'Like what you see? Visit the ' +\n",
              "            '<a target=\"_blank\" href=https://colab.research.google.com/notebooks/data_table.ipynb>data table notebook</a>'\n",
              "            + ' to learn more about interactive tables.';\n",
              "          element.innerHTML = '';\n",
              "          dataTable['output_type'] = 'display_data';\n",
              "          await google.colab.output.renderOutput(dataTable, element);\n",
              "          const docLink = document.createElement('div');\n",
              "          docLink.innerHTML = docLinkHtml;\n",
              "          element.appendChild(docLink);\n",
              "        }\n",
              "      </script>\n",
              "    </div>\n",
              "  </div>\n",
              "  "
            ]
          },
          "metadata": {},
          "execution_count": 153
        }
      ]
    },
    {
      "cell_type": "markdown",
      "source": [
        "IKAN LAINNYA is a redundant unique value so we're going to change it later and create new values to separate Jenis Ikan LAINNYA based on their JENIS USAHA"
      ],
      "metadata": {
        "id": "niW3luvzhZaS"
      }
    },
    {
      "cell_type": "code",
      "source": [
        "print('Missing values:')\n",
        "print(df_og.isnull().mean().sort_values(ascending = False) * 100)"
      ],
      "metadata": {
        "colab": {
          "base_uri": "https://localhost:8080/"
        },
        "id": "i89b96YQeMeP",
        "outputId": "eab686c6-3797-4c7b-9206-b3923ca3cc36"
      },
      "execution_count": null,
      "outputs": [
        {
          "output_type": "stream",
          "name": "stdout",
          "text": [
            "Missing values:\n",
            "Jenis Usaha        0.0\n",
            "Provinsi           0.0\n",
            "Jenis Ikan         0.0\n",
            "Tahun              0.0\n",
            "Volume Produksi    0.0\n",
            "Nilai Produksi     0.0\n",
            "dtype: float64\n"
          ]
        }
      ]
    },
    {
      "cell_type": "markdown",
      "source": [
        "No missing values found"
      ],
      "metadata": {
        "id": "jiAynTeweU40"
      }
    },
    {
      "cell_type": "code",
      "source": [
        "print(f'Duplicates: {df_og.duplicated().sum()}')"
      ],
      "metadata": {
        "colab": {
          "base_uri": "https://localhost:8080/"
        },
        "id": "udX-9OWTruwM",
        "outputId": "3bf60665-39ff-4b86-ec1c-c674f2f86dea"
      },
      "execution_count": null,
      "outputs": [
        {
          "output_type": "stream",
          "name": "stdout",
          "text": [
            "Duplicates: 0\n"
          ]
        }
      ]
    },
    {
      "cell_type": "markdown",
      "source": [
        "No duplicates found"
      ],
      "metadata": {
        "id": "dVYz7rw4r5gF"
      }
    },
    {
      "cell_type": "markdown",
      "source": [
        "# Data Preprocessing"
      ],
      "metadata": {
        "id": "VnBAXVkyhtaF"
      }
    },
    {
      "cell_type": "markdown",
      "source": [
        "## Cleaning"
      ],
      "metadata": {
        "id": "ips5gd7Isrxt"
      }
    },
    {
      "cell_type": "code",
      "source": [
        "def cleaning(df):\n",
        "  df.loc[(df['Jenis Usaha'] == 'TANGKAP LAUT') & (df['Jenis Ikan'].str.contains('LAINNYA')), 'Jenis Ikan'] = 'LAINNYA LAUT'\n",
        "  df.loc[(df['Jenis Usaha'] == 'BUDIDAYA') & (df['Jenis Ikan'].str.contains('LAINNYA')), 'Jenis Ikan'] = 'LAINNYA BUDIDAYA'\n",
        "  df.loc[(df['Jenis Usaha'] == 'TANGKAP PUD') & (df['Jenis Ikan'].str.contains('LAINNYA')), 'Jenis Ikan'] = 'LAINNYA PUD'\n",
        "\n",
        "  return df"
      ],
      "metadata": {
        "id": "d4tjR0uVDqUU"
      },
      "execution_count": null,
      "outputs": []
    },
    {
      "cell_type": "markdown",
      "source": [
        "Create new values separating Jenis Ikan LAINNYA based on their JENIS USAHA to interpret cluster easier"
      ],
      "metadata": {
        "id": "fSoQ2U6FhxJS"
      }
    },
    {
      "cell_type": "markdown",
      "source": [
        "## Encoding"
      ],
      "metadata": {
        "id": "j1VkCVmysv1l"
      }
    },
    {
      "cell_type": "code",
      "source": [
        "def encode(df):\n",
        "  dummies = ['Jenis Usaha', 'Provinsi', 'Jenis Ikan', 'Tahun']\n",
        "  df[dummies] = df[dummies].apply(LabelEncoder().fit_transform)\n",
        "\n",
        "  return df"
      ],
      "metadata": {
        "id": "hJGEBCoJUtix"
      },
      "execution_count": null,
      "outputs": []
    },
    {
      "cell_type": "markdown",
      "source": [
        "Encode categorical features using LabelEncoder"
      ],
      "metadata": {
        "id": "9gYTgnbpU2lP"
      }
    },
    {
      "cell_type": "markdown",
      "source": [
        "## Scaling"
      ],
      "metadata": {
        "id": "ArfA34H8szrb"
      }
    },
    {
      "cell_type": "code",
      "source": [
        "def scaling(df):\n",
        "  scale = ['Jenis Usaha', 'Provinsi', 'Jenis Ikan','Tahun', 'Volume Produksi', 'Nilai Produksi']\n",
        "  scaler = RobustScaler()\n",
        "  df[scale] = scaler.fit_transform(df[scale])\n",
        "\n",
        "  return df"
      ],
      "metadata": {
        "id": "iaMHDCFBEGdc"
      },
      "execution_count": null,
      "outputs": []
    },
    {
      "cell_type": "markdown",
      "source": [
        "Since the data we have are skewed, we're going to use RobustScaler for the scaling"
      ],
      "metadata": {
        "id": "fNX-Sp9z2XRT"
      }
    },
    {
      "cell_type": "markdown",
      "source": [
        "## Preprocess"
      ],
      "metadata": {
        "id": "LtbpWExys9FI"
      }
    },
    {
      "cell_type": "code",
      "source": [
        "def preprocess(df):\n",
        "  cleaning(df)\n",
        "  encode(df)\n",
        "  scaling(df)\n",
        "\n",
        "  df.drop(columns=['Provinsi', 'Tahun'], inplace=True)\n",
        "\n",
        "  return df"
      ],
      "metadata": {
        "id": "ZdXG6iG0hxGX"
      },
      "execution_count": null,
      "outputs": []
    },
    {
      "cell_type": "markdown",
      "source": [
        "Preprocess and drop the unneeded columns"
      ],
      "metadata": {
        "id": "SsiW-bLfsh0_"
      }
    },
    {
      "cell_type": "code",
      "source": [
        "df_cleaned = df_og.copy()\n",
        "cleaning(df_cleaned)\n",
        "\n",
        "X = df_og.copy()\n",
        "preprocess(X)\n",
        "\n",
        "X.head()"
      ],
      "metadata": {
        "colab": {
          "base_uri": "https://localhost:8080/",
          "height": 206
        },
        "id": "SEKPC8ZL7GFw",
        "outputId": "c43f691d-90b1-4620-d15d-29905c1ebcb6"
      },
      "execution_count": null,
      "outputs": [
        {
          "output_type": "execute_result",
          "data": {
            "text/plain": [
              "   Jenis Usaha  Jenis Ikan  Volume Produksi  Nilai Produksi\n",
              "0         -1.0   -1.063492         2.652266        0.919184\n",
              "1         -1.0   -1.063492         2.269935        1.435291\n",
              "2         -1.0   -1.063492         2.068975        2.874627\n",
              "3         -1.0   -1.063492         2.633778        2.027621\n",
              "4         -1.0   -1.063492         2.669933        2.061470"
            ],
            "text/html": [
              "\n",
              "  <div id=\"df-6603a842-4ee7-4247-aa61-796a59329b62\">\n",
              "    <div class=\"colab-df-container\">\n",
              "      <div>\n",
              "<style scoped>\n",
              "    .dataframe tbody tr th:only-of-type {\n",
              "        vertical-align: middle;\n",
              "    }\n",
              "\n",
              "    .dataframe tbody tr th {\n",
              "        vertical-align: top;\n",
              "    }\n",
              "\n",
              "    .dataframe thead th {\n",
              "        text-align: right;\n",
              "    }\n",
              "</style>\n",
              "<table border=\"1\" class=\"dataframe\">\n",
              "  <thead>\n",
              "    <tr style=\"text-align: right;\">\n",
              "      <th></th>\n",
              "      <th>Jenis Usaha</th>\n",
              "      <th>Jenis Ikan</th>\n",
              "      <th>Volume Produksi</th>\n",
              "      <th>Nilai Produksi</th>\n",
              "    </tr>\n",
              "  </thead>\n",
              "  <tbody>\n",
              "    <tr>\n",
              "      <th>0</th>\n",
              "      <td>-1.0</td>\n",
              "      <td>-1.063492</td>\n",
              "      <td>2.652266</td>\n",
              "      <td>0.919184</td>\n",
              "    </tr>\n",
              "    <tr>\n",
              "      <th>1</th>\n",
              "      <td>-1.0</td>\n",
              "      <td>-1.063492</td>\n",
              "      <td>2.269935</td>\n",
              "      <td>1.435291</td>\n",
              "    </tr>\n",
              "    <tr>\n",
              "      <th>2</th>\n",
              "      <td>-1.0</td>\n",
              "      <td>-1.063492</td>\n",
              "      <td>2.068975</td>\n",
              "      <td>2.874627</td>\n",
              "    </tr>\n",
              "    <tr>\n",
              "      <th>3</th>\n",
              "      <td>-1.0</td>\n",
              "      <td>-1.063492</td>\n",
              "      <td>2.633778</td>\n",
              "      <td>2.027621</td>\n",
              "    </tr>\n",
              "    <tr>\n",
              "      <th>4</th>\n",
              "      <td>-1.0</td>\n",
              "      <td>-1.063492</td>\n",
              "      <td>2.669933</td>\n",
              "      <td>2.061470</td>\n",
              "    </tr>\n",
              "  </tbody>\n",
              "</table>\n",
              "</div>\n",
              "      <button class=\"colab-df-convert\" onclick=\"convertToInteractive('df-6603a842-4ee7-4247-aa61-796a59329b62')\"\n",
              "              title=\"Convert this dataframe to an interactive table.\"\n",
              "              style=\"display:none;\">\n",
              "        \n",
              "  <svg xmlns=\"http://www.w3.org/2000/svg\" height=\"24px\"viewBox=\"0 0 24 24\"\n",
              "       width=\"24px\">\n",
              "    <path d=\"M0 0h24v24H0V0z\" fill=\"none\"/>\n",
              "    <path d=\"M18.56 5.44l.94 2.06.94-2.06 2.06-.94-2.06-.94-.94-2.06-.94 2.06-2.06.94zm-11 1L8.5 8.5l.94-2.06 2.06-.94-2.06-.94L8.5 2.5l-.94 2.06-2.06.94zm10 10l.94 2.06.94-2.06 2.06-.94-2.06-.94-.94-2.06-.94 2.06-2.06.94z\"/><path d=\"M17.41 7.96l-1.37-1.37c-.4-.4-.92-.59-1.43-.59-.52 0-1.04.2-1.43.59L10.3 9.45l-7.72 7.72c-.78.78-.78 2.05 0 2.83L4 21.41c.39.39.9.59 1.41.59.51 0 1.02-.2 1.41-.59l7.78-7.78 2.81-2.81c.8-.78.8-2.07 0-2.86zM5.41 20L4 18.59l7.72-7.72 1.47 1.35L5.41 20z\"/>\n",
              "  </svg>\n",
              "      </button>\n",
              "      \n",
              "  <style>\n",
              "    .colab-df-container {\n",
              "      display:flex;\n",
              "      flex-wrap:wrap;\n",
              "      gap: 12px;\n",
              "    }\n",
              "\n",
              "    .colab-df-convert {\n",
              "      background-color: #E8F0FE;\n",
              "      border: none;\n",
              "      border-radius: 50%;\n",
              "      cursor: pointer;\n",
              "      display: none;\n",
              "      fill: #1967D2;\n",
              "      height: 32px;\n",
              "      padding: 0 0 0 0;\n",
              "      width: 32px;\n",
              "    }\n",
              "\n",
              "    .colab-df-convert:hover {\n",
              "      background-color: #E2EBFA;\n",
              "      box-shadow: 0px 1px 2px rgba(60, 64, 67, 0.3), 0px 1px 3px 1px rgba(60, 64, 67, 0.15);\n",
              "      fill: #174EA6;\n",
              "    }\n",
              "\n",
              "    [theme=dark] .colab-df-convert {\n",
              "      background-color: #3B4455;\n",
              "      fill: #D2E3FC;\n",
              "    }\n",
              "\n",
              "    [theme=dark] .colab-df-convert:hover {\n",
              "      background-color: #434B5C;\n",
              "      box-shadow: 0px 1px 3px 1px rgba(0, 0, 0, 0.15);\n",
              "      filter: drop-shadow(0px 1px 2px rgba(0, 0, 0, 0.3));\n",
              "      fill: #FFFFFF;\n",
              "    }\n",
              "  </style>\n",
              "\n",
              "      <script>\n",
              "        const buttonEl =\n",
              "          document.querySelector('#df-6603a842-4ee7-4247-aa61-796a59329b62 button.colab-df-convert');\n",
              "        buttonEl.style.display =\n",
              "          google.colab.kernel.accessAllowed ? 'block' : 'none';\n",
              "\n",
              "        async function convertToInteractive(key) {\n",
              "          const element = document.querySelector('#df-6603a842-4ee7-4247-aa61-796a59329b62');\n",
              "          const dataTable =\n",
              "            await google.colab.kernel.invokeFunction('convertToInteractive',\n",
              "                                                     [key], {});\n",
              "          if (!dataTable) return;\n",
              "\n",
              "          const docLinkHtml = 'Like what you see? Visit the ' +\n",
              "            '<a target=\"_blank\" href=https://colab.research.google.com/notebooks/data_table.ipynb>data table notebook</a>'\n",
              "            + ' to learn more about interactive tables.';\n",
              "          element.innerHTML = '';\n",
              "          dataTable['output_type'] = 'display_data';\n",
              "          await google.colab.output.renderOutput(dataTable, element);\n",
              "          const docLink = document.createElement('div');\n",
              "          docLink.innerHTML = docLinkHtml;\n",
              "          element.appendChild(docLink);\n",
              "        }\n",
              "      </script>\n",
              "    </div>\n",
              "  </div>\n",
              "  "
            ]
          },
          "metadata": {},
          "execution_count": 160
        }
      ]
    },
    {
      "cell_type": "markdown",
      "source": [
        "Clean the original dataframe to use it later for the clustering result and create the training dataset by preprocessing the original datafra,e"
      ],
      "metadata": {
        "id": "C2FdCkrE7tpN"
      }
    },
    {
      "cell_type": "code",
      "source": [
        "df_clustered = df_cleaned.copy()"
      ],
      "metadata": {
        "id": "BKlbiDjc7fu8"
      },
      "execution_count": null,
      "outputs": []
    },
    {
      "cell_type": "markdown",
      "source": [
        "Copy the cleaned dataframe to use it for the clustering result"
      ],
      "metadata": {
        "id": "AwEM2-xI7533"
      }
    },
    {
      "cell_type": "markdown",
      "source": [
        "# Modelling Algorithm"
      ],
      "metadata": {
        "id": "l6UgMqyynPAe"
      }
    },
    {
      "cell_type": "markdown",
      "source": [
        "## Quick Tests to Choose Algorithm"
      ],
      "metadata": {
        "id": "l0y5W-uGl7mj"
      }
    },
    {
      "cell_type": "code",
      "source": [
        "pipelines = {\n",
        "    'ac': make_pipeline(AgglomerativeClustering(n_clusters=2)),\n",
        "    'birch': make_pipeline(Birch(n_clusters=2)),\n",
        "    'gaussian': make_pipeline(GaussianMixture(n_components=2)),\n",
        "}\n"
      ],
      "metadata": {
        "id": "X_yaMqa2m36J"
      },
      "execution_count": null,
      "outputs": []
    },
    {
      "cell_type": "markdown",
      "source": [
        "Build some simple pipelines"
      ],
      "metadata": {
        "id": "H_pd7MfU8E2E"
      }
    },
    {
      "cell_type": "code",
      "source": [
        "for clf, pipeline in pipelines.items():\n",
        "    print(f'Training the {clf} model.')\n",
        "   \n",
        "    model = pipeline\n",
        "    \n",
        "    y_hat = model.fit_predict(X)\n",
        "  \n",
        "    print(\"Silhouette Coefficient: %0.3f\" % silhouette_score(X,y_hat))\n",
        "    print(\"Calinski Harabasz: %0.3f\" % calinski_harabasz_score(X,y_hat))\n",
        "    print('-----------------------------------------------------------')"
      ],
      "metadata": {
        "colab": {
          "base_uri": "https://localhost:8080/"
        },
        "id": "bJZZwdLSnAS6",
        "outputId": "42c16bc6-9850-48f4-cdd7-c0fb8c4f8a51"
      },
      "execution_count": null,
      "outputs": [
        {
          "output_type": "stream",
          "name": "stdout",
          "text": [
            "Training the ac model.\n",
            "Silhouette Coefficient: 0.902\n",
            "Calinski Harabasz: 5315.871\n",
            "-----------------------------------------------------------\n",
            "Training the birch model.\n",
            "Silhouette Coefficient: 0.914\n",
            "Calinski Harabasz: 5836.087\n",
            "-----------------------------------------------------------\n",
            "Training the gaussian model.\n",
            "Silhouette Coefficient: 0.405\n",
            "Calinski Harabasz: 602.365\n",
            "-----------------------------------------------------------\n"
          ]
        }
      ]
    },
    {
      "cell_type": "markdown",
      "source": [
        "Based from the quick test, BIRCH has the best score so we're going to use it"
      ],
      "metadata": {
        "id": "hKVeuy_rtQH4"
      }
    },
    {
      "cell_type": "markdown",
      "source": [
        "## Choosing the Optimal Number of Clusters"
      ],
      "metadata": {
        "id": "pHimJtI60aY1"
      }
    },
    {
      "cell_type": "code",
      "source": [
        "# Take a while to run\n",
        "\n",
        "plt.figure(figsize=(18, 10))  \n",
        "plt.title(\"Dendrograms\")  \n",
        "dend = shc.dendrogram(shc.linkage(X, method='ward'))"
      ],
      "metadata": {
        "colab": {
          "base_uri": "https://localhost:8080/",
          "height": 613
        },
        "id": "wwsIfmtXtY8N",
        "outputId": "9889111c-5fd3-40f0-f2a5-6d21bb1224ea"
      },
      "execution_count": null,
      "outputs": [
        {
          "output_type": "display_data",
          "data": {
            "text/plain": [
              "<Figure size 1296x720 with 1 Axes>"
            ],
            "image/png": "[encoded data removed]"
          },
          "metadata": {}
        }
      ]
    },
    {
      "cell_type": "markdown",
      "source": [
        "Based on the dendograms above, it seems that the optimal number of clusters is 2 but it will be hard for us to interpret the label with only 2 clusters so we're going to use 4 instead"
      ],
      "metadata": {
        "id": "IGeNNEnF0rjA"
      }
    },
    {
      "cell_type": "markdown",
      "source": [
        "## Training the Model"
      ],
      "metadata": {
        "id": "u48Ej7Dp1yPn"
      }
    },
    {
      "cell_type": "markdown",
      "source": [
        "## Train Using BIRCH"
      ],
      "metadata": {
        "id": "y6ZIc7fMtKw1"
      }
    },
    {
      "cell_type": "code",
      "source": [
        "def train(X):\n",
        "  birch = Birch(n_clusters=4)\n",
        "\n",
        "  model = birch.fit(X)\n",
        "\n",
        "  y_hat = model.predict(X)\n",
        "\n",
        "  print(\"Silhouette Coefficient: %0.3f\" % silhouette_score(X,y_hat))\n",
        "  print(\"Calinski Harabasz: %0.3f\" % calinski_harabasz_score(X,y_hat))\n",
        "\n",
        "  df_clustered['Cluster'] = y_hat\n",
        "\n",
        "  return model"
      ],
      "metadata": {
        "id": "N0Kcef-6164k"
      },
      "execution_count": null,
      "outputs": []
    },
    {
      "cell_type": "markdown",
      "source": [
        "Train and save the clustering result to the clustered dataframe"
      ],
      "metadata": {
        "id": "NwP_OWSt8Ytf"
      }
    },
    {
      "cell_type": "code",
      "source": [
        "model = train(X)"
      ],
      "metadata": {
        "colab": {
          "base_uri": "https://localhost:8080/"
        },
        "id": "MtZLyld5so0r",
        "outputId": "f094839b-3447-4d42-a0d4-b5c9b30176b2"
      },
      "execution_count": null,
      "outputs": [
        {
          "output_type": "stream",
          "name": "stdout",
          "text": [
            "Silhouette Coefficient: 0.885\n",
            "Calinski Harabasz: 6373.324\n"
          ]
        }
      ]
    },
    {
      "cell_type": "markdown",
      "source": [
        "# Cluster Visualization"
      ],
      "metadata": {
        "id": "0zaWh6eW6qZi"
      }
    },
    {
      "cell_type": "markdown",
      "source": [
        "## PCA"
      ],
      "metadata": {
        "id": "K5UXoFuOtH8l"
      }
    },
    {
      "cell_type": "code",
      "source": [
        "pca = PCA(n_components=2).fit_transform(X)\n",
        "\n",
        "df_clustered['PCA1'] = pca[:, 0]\n",
        "df_clustered['PCA2'] = pca[:, 1]\n",
        "\n",
        "df_clustered.head()"
      ],
      "metadata": {
        "colab": {
          "base_uri": "https://localhost:8080/",
          "height": 206
        },
        "id": "UiGzRFIntXUR",
        "outputId": "c2f5a4f3-66be-4eec-fba6-6c761419e9f8"
      },
      "execution_count": null,
      "outputs": [
        {
          "output_type": "execute_result",
          "data": {
            "text/plain": [
              "  Jenis Usaha Provinsi Jenis Ikan  Tahun  Volume Produksi  Nilai Produksi  \\\n",
              "0    BUDIDAYA   BANTEN    BANDENG   2010         11071.00      82781877.0   \n",
              "1    BUDIDAYA   BANTEN    BANDENG   2011          9542.74     124055620.0   \n",
              "2    BUDIDAYA   BANTEN    BANDENG   2012          8739.46     239161200.0   \n",
              "3    BUDIDAYA   BANTEN    BANDENG   2013         10997.10     171425024.0   \n",
              "4    BUDIDAYA   BANTEN    BANDENG   2014         11141.62     174132000.0   \n",
              "\n",
              "   Cluster      PCA1      PCA2  \n",
              "0        1 -0.884120 -1.127025  \n",
              "1        1 -0.890513 -0.484778  \n",
              "2        1 -0.208043  0.798159  \n",
              "3        1 -0.248260 -0.219063  \n",
              "4        1 -0.199125 -0.212901  "
            ],
            "text/html": [
              "\n",
              "  <div id=\"df-c0cfb687-4d42-4d3d-b50c-c1a56f69bc53\">\n",
              "    <div class=\"colab-df-container\">\n",
              "      <div>\n",
              "<style scoped>\n",
              "    .dataframe tbody tr th:only-of-type {\n",
              "        vertical-align: middle;\n",
              "    }\n",
              "\n",
              "    .dataframe tbody tr th {\n",
              "        vertical-align: top;\n",
              "    }\n",
              "\n",
              "    .dataframe thead th {\n",
              "        text-align: right;\n",
              "    }\n",
              "</style>\n",
              "<table border=\"1\" class=\"dataframe\">\n",
              "  <thead>\n",
              "    <tr style=\"text-align: right;\">\n",
              "      <th></th>\n",
              "      <th>Jenis Usaha</th>\n",
              "      <th>Provinsi</th>\n",
              "      <th>Jenis Ikan</th>\n",
              "      <th>Tahun</th>\n",
              "      <th>Volume Produksi</th>\n",
              "      <th>Nilai Produksi</th>\n",
              "      <th>Cluster</th>\n",
              "      <th>PCA1</th>\n",
              "      <th>PCA2</th>\n",
              "    </tr>\n",
              "  </thead>\n",
              "  <tbody>\n",
              "    <tr>\n",
              "      <th>0</th>\n",
              "      <td>BUDIDAYA</td>\n",
              "      <td>BANTEN</td>\n",
              "      <td>BANDENG</td>\n",
              "      <td>2010</td>\n",
              "      <td>11071.00</td>\n",
              "      <td>82781877.0</td>\n",
              "      <td>1</td>\n",
              "      <td>-0.884120</td>\n",
              "      <td>-1.127025</td>\n",
              "    </tr>\n",
              "    <tr>\n",
              "      <th>1</th>\n",
              "      <td>BUDIDAYA</td>\n",
              "      <td>BANTEN</td>\n",
              "      <td>BANDENG</td>\n",
              "      <td>2011</td>\n",
              "      <td>9542.74</td>\n",
              "      <td>124055620.0</td>\n",
              "      <td>1</td>\n",
              "      <td>-0.890513</td>\n",
              "      <td>-0.484778</td>\n",
              "    </tr>\n",
              "    <tr>\n",
              "      <th>2</th>\n",
              "      <td>BUDIDAYA</td>\n",
              "      <td>BANTEN</td>\n",
              "      <td>BANDENG</td>\n",
              "      <td>2012</td>\n",
              "      <td>8739.46</td>\n",
              "      <td>239161200.0</td>\n",
              "      <td>1</td>\n",
              "      <td>-0.208043</td>\n",
              "      <td>0.798159</td>\n",
              "    </tr>\n",
              "    <tr>\n",
              "      <th>3</th>\n",
              "      <td>BUDIDAYA</td>\n",
              "      <td>BANTEN</td>\n",
              "      <td>BANDENG</td>\n",
              "      <td>2013</td>\n",
              "      <td>10997.10</td>\n",
              "      <td>171425024.0</td>\n",
              "      <td>1</td>\n",
              "      <td>-0.248260</td>\n",
              "      <td>-0.219063</td>\n",
              "    </tr>\n",
              "    <tr>\n",
              "      <th>4</th>\n",
              "      <td>BUDIDAYA</td>\n",
              "      <td>BANTEN</td>\n",
              "      <td>BANDENG</td>\n",
              "      <td>2014</td>\n",
              "      <td>11141.62</td>\n",
              "      <td>174132000.0</td>\n",
              "      <td>1</td>\n",
              "      <td>-0.199125</td>\n",
              "      <td>-0.212901</td>\n",
              "    </tr>\n",
              "  </tbody>\n",
              "</table>\n",
              "</div>\n",
              "      <button class=\"colab-df-convert\" onclick=\"convertToInteractive('df-c0cfb687-4d42-4d3d-b50c-c1a56f69bc53')\"\n",
              "              title=\"Convert this dataframe to an interactive table.\"\n",
              "              style=\"display:none;\">\n",
              "        \n",
              "  <svg xmlns=\"http://www.w3.org/2000/svg\" height=\"24px\"viewBox=\"0 0 24 24\"\n",
              "       width=\"24px\">\n",
              "    <path d=\"M0 0h24v24H0V0z\" fill=\"none\"/>\n",
              "    <path d=\"M18.56 5.44l.94 2.06.94-2.06 2.06-.94-2.06-.94-.94-2.06-.94 2.06-2.06.94zm-11 1L8.5 8.5l.94-2.06 2.06-.94-2.06-.94L8.5 2.5l-.94 2.06-2.06.94zm10 10l.94 2.06.94-2.06 2.06-.94-2.06-.94-.94-2.06-.94 2.06-2.06.94z\"/><path d=\"M17.41 7.96l-1.37-1.37c-.4-.4-.92-.59-1.43-.59-.52 0-1.04.2-1.43.59L10.3 9.45l-7.72 7.72c-.78.78-.78 2.05 0 2.83L4 21.41c.39.39.9.59 1.41.59.51 0 1.02-.2 1.41-.59l7.78-7.78 2.81-2.81c.8-.78.8-2.07 0-2.86zM5.41 20L4 18.59l7.72-7.72 1.47 1.35L5.41 20z\"/>\n",
              "  </svg>\n",
              "      </button>\n",
              "      \n",
              "  <style>\n",
              "    .colab-df-container {\n",
              "      display:flex;\n",
              "      flex-wrap:wrap;\n",
              "      gap: 12px;\n",
              "    }\n",
              "\n",
              "    .colab-df-convert {\n",
              "      background-color: #E8F0FE;\n",
              "      border: none;\n",
              "      border-radius: 50%;\n",
              "      cursor: pointer;\n",
              "      display: none;\n",
              "      fill: #1967D2;\n",
              "      height: 32px;\n",
              "      padding: 0 0 0 0;\n",
              "      width: 32px;\n",
              "    }\n",
              "\n",
              "    .colab-df-convert:hover {\n",
              "      background-color: #E2EBFA;\n",
              "      box-shadow: 0px 1px 2px rgba(60, 64, 67, 0.3), 0px 1px 3px 1px rgba(60, 64, 67, 0.15);\n",
              "      fill: #174EA6;\n",
              "    }\n",
              "\n",
              "    [theme=dark] .colab-df-convert {\n",
              "      background-color: #3B4455;\n",
              "      fill: #D2E3FC;\n",
              "    }\n",
              "\n",
              "    [theme=dark] .colab-df-convert:hover {\n",
              "      background-color: #434B5C;\n",
              "      box-shadow: 0px 1px 3px 1px rgba(0, 0, 0, 0.15);\n",
              "      filter: drop-shadow(0px 1px 2px rgba(0, 0, 0, 0.3));\n",
              "      fill: #FFFFFF;\n",
              "    }\n",
              "  </style>\n",
              "\n",
              "      <script>\n",
              "        const buttonEl =\n",
              "          document.querySelector('#df-c0cfb687-4d42-4d3d-b50c-c1a56f69bc53 button.colab-df-convert');\n",
              "        buttonEl.style.display =\n",
              "          google.colab.kernel.accessAllowed ? 'block' : 'none';\n",
              "\n",
              "        async function convertToInteractive(key) {\n",
              "          const element = document.querySelector('#df-c0cfb687-4d42-4d3d-b50c-c1a56f69bc53');\n",
              "          const dataTable =\n",
              "            await google.colab.kernel.invokeFunction('convertToInteractive',\n",
              "                                                     [key], {});\n",
              "          if (!dataTable) return;\n",
              "\n",
              "          const docLinkHtml = 'Like what you see? Visit the ' +\n",
              "            '<a target=\"_blank\" href=https://colab.research.google.com/notebooks/data_table.ipynb>data table notebook</a>'\n",
              "            + ' to learn more about interactive tables.';\n",
              "          element.innerHTML = '';\n",
              "          dataTable['output_type'] = 'display_data';\n",
              "          await google.colab.output.renderOutput(dataTable, element);\n",
              "          const docLink = document.createElement('div');\n",
              "          docLink.innerHTML = docLinkHtml;\n",
              "          element.appendChild(docLink);\n",
              "        }\n",
              "      </script>\n",
              "    </div>\n",
              "  </div>\n",
              "  "
            ]
          },
          "metadata": {},
          "execution_count": 166
        }
      ]
    },
    {
      "cell_type": "markdown",
      "source": [
        "Use PCA to help visualize the clusters"
      ],
      "metadata": {
        "id": "wRJ8yVyi8oiY"
      }
    },
    {
      "cell_type": "code",
      "source": [
        "def visualize(df):\n",
        "  fig, ax = plt.subplots(1, 1, figsize=(12,8))\n",
        "  sns.scatterplot(x='PCA1', y='PCA2', data=df, hue='Cluster', ax=ax).set_title(\n",
        "      'Cluster Result', fontsize=18, fontweight='bold')\n",
        "\n",
        "  plt.tight_layout()\n",
        "  plt.show();"
      ],
      "metadata": {
        "id": "inTtY9AD6tGU"
      },
      "execution_count": null,
      "outputs": []
    },
    {
      "cell_type": "markdown",
      "source": [
        "## Cluster Result"
      ],
      "metadata": {
        "id": "na26qcFuDqIL"
      }
    },
    {
      "cell_type": "code",
      "source": [
        "visualize(df_clustered)"
      ],
      "metadata": {
        "colab": {
          "base_uri": "https://localhost:8080/",
          "height": 581
        },
        "id": "ORTmcpwt68v-",
        "outputId": "88807c53-8f4b-49cf-de8c-f182ba4cddbd"
      },
      "execution_count": null,
      "outputs": [
        {
          "output_type": "display_data",
          "data": {
            "text/plain": [
              "<Figure size 864x576 with 1 Axes>"
            ],
            "image/png": "[encoded data removed]"
          },
          "metadata": {}
        }
      ]
    },
    {
      "cell_type": "markdown",
      "source": [
        "Just as we expected there are outliers in our cluster. The distance between Cluster 1 and 3 is close so they might have some similarity. Some of Cluster 0 and 3 are close. Cluster 2 distance is far from the other clusters"
      ],
      "metadata": {
        "id": "aotSi8ZkNdTH"
      }
    },
    {
      "cell_type": "markdown",
      "source": [
        "# Finalizing Model"
      ],
      "metadata": {
        "id": "Fa4nBj3StjZa"
      }
    },
    {
      "cell_type": "markdown",
      "source": [
        "## Save"
      ],
      "metadata": {
        "id": "PFZryM8uD1YJ"
      }
    },
    {
      "cell_type": "code",
      "source": [
        "def finalize_model(mdl):\n",
        "  with open('birch.pkl', 'wb') as b:\n",
        "    pickle.dump(mdl, b)"
      ],
      "metadata": {
        "id": "UQnyz9RZvVnY"
      },
      "execution_count": null,
      "outputs": []
    },
    {
      "cell_type": "markdown",
      "source": [
        "Save the model using pickle to use it later"
      ],
      "metadata": {
        "id": "JiU5RIVaB90_"
      }
    },
    {
      "cell_type": "markdown",
      "source": [
        "## Load"
      ],
      "metadata": {
        "id": "nHPmwzxMD5iQ"
      }
    },
    {
      "cell_type": "code",
      "source": [
        "def load_model():\n",
        "  with open('birch.pkl', 'rb') as b:\n",
        "    model = pickle.load(b)\n",
        "    print(model)\n",
        "\n",
        "    return model"
      ],
      "metadata": {
        "id": "l-Jx3RBI13Aa"
      },
      "execution_count": null,
      "outputs": []
    },
    {
      "cell_type": "markdown",
      "source": [
        "Load the saved model"
      ],
      "metadata": {
        "id": "8tf6ehN_CDP8"
      }
    },
    {
      "cell_type": "code",
      "source": [
        "finalize_model(model)"
      ],
      "metadata": {
        "id": "Ib8rFRm1yiZ0"
      },
      "execution_count": null,
      "outputs": []
    },
    {
      "cell_type": "code",
      "source": [
        "loaded_model = load_model()"
      ],
      "metadata": {
        "colab": {
          "base_uri": "https://localhost:8080/"
        },
        "id": "LbEFU4Rr2n50",
        "outputId": "9c79a335-80eb-4ab7-c5f4-408bcf64e890"
      },
      "execution_count": null,
      "outputs": [
        {
          "output_type": "stream",
          "name": "stdout",
          "text": [
            "Birch(n_clusters=4)\n"
          ]
        }
      ]
    },
    {
      "cell_type": "markdown",
      "source": [
        "# Post Processing"
      ],
      "metadata": {
        "id": "ZsBKOxkCBER0"
      }
    },
    {
      "cell_type": "markdown",
      "source": [
        "## Interpret By Volume and Nilai of Jenis Usaha"
      ],
      "metadata": {
        "id": "YucsXqiBtTV-"
      }
    },
    {
      "cell_type": "code",
      "source": [
        "volume_by_usaha = df_clustered.groupby(['Jenis Usaha', 'Cluster'])['Volume Produksi'].mean().unstack()\n",
        "\n",
        "volume_by_usaha"
      ],
      "metadata": {
        "colab": {
          "base_uri": "https://localhost:8080/",
          "height": 175
        },
        "id": "Y_Xv0upC8Pew",
        "outputId": "8822806f-d810-4386-8679-5311d3dbab06"
      },
      "execution_count": null,
      "outputs": [
        {
          "output_type": "execute_result",
          "data": {
            "text/plain": [
              "Cluster                   0             1              2              3\n",
              "Jenis Usaha                                                            \n",
              "BUDIDAYA      194217.839722  11446.492448  595463.613333  123980.172031\n",
              "TANGKAP LAUT  218673.797500   5142.370987            NaN  159357.127500\n",
              "TANGKAP PUD             NaN    609.714356            NaN            NaN"
            ],
            "text/html": [
              "\n",
              "  <div id=\"df-2ba51a3e-4f2b-48c2-8904-e0c8c8c280c6\">\n",
              "    <div class=\"colab-df-container\">\n",
              "      <div>\n",
              "<style scoped>\n",
              "    .dataframe tbody tr th:only-of-type {\n",
              "        vertical-align: middle;\n",
              "    }\n",
              "\n",
              "    .dataframe tbody tr th {\n",
              "        vertical-align: top;\n",
              "    }\n",
              "\n",
              "    .dataframe thead th {\n",
              "        text-align: right;\n",
              "    }\n",
              "</style>\n",
              "<table border=\"1\" class=\"dataframe\">\n",
              "  <thead>\n",
              "    <tr style=\"text-align: right;\">\n",
              "      <th>Cluster</th>\n",
              "      <th>0</th>\n",
              "      <th>1</th>\n",
              "      <th>2</th>\n",
              "      <th>3</th>\n",
              "    </tr>\n",
              "    <tr>\n",
              "      <th>Jenis Usaha</th>\n",
              "      <th></th>\n",
              "      <th></th>\n",
              "      <th></th>\n",
              "      <th></th>\n",
              "    </tr>\n",
              "  </thead>\n",
              "  <tbody>\n",
              "    <tr>\n",
              "      <th>BUDIDAYA</th>\n",
              "      <td>194217.839722</td>\n",
              "      <td>11446.492448</td>\n",
              "      <td>595463.613333</td>\n",
              "      <td>123980.172031</td>\n",
              "    </tr>\n",
              "    <tr>\n",
              "      <th>TANGKAP LAUT</th>\n",
              "      <td>218673.797500</td>\n",
              "      <td>5142.370987</td>\n",
              "      <td>NaN</td>\n",
              "      <td>159357.127500</td>\n",
              "    </tr>\n",
              "    <tr>\n",
              "      <th>TANGKAP PUD</th>\n",
              "      <td>NaN</td>\n",
              "      <td>609.714356</td>\n",
              "      <td>NaN</td>\n",
              "      <td>NaN</td>\n",
              "    </tr>\n",
              "  </tbody>\n",
              "</table>\n",
              "</div>\n",
              "      <button class=\"colab-df-convert\" onclick=\"convertToInteractive('df-2ba51a3e-4f2b-48c2-8904-e0c8c8c280c6')\"\n",
              "              title=\"Convert this dataframe to an interactive table.\"\n",
              "              style=\"display:none;\">\n",
              "        \n",
              "  <svg xmlns=\"http://www.w3.org/2000/svg\" height=\"24px\"viewBox=\"0 0 24 24\"\n",
              "       width=\"24px\">\n",
              "    <path d=\"M0 0h24v24H0V0z\" fill=\"none\"/>\n",
              "    <path d=\"M18.56 5.44l.94 2.06.94-2.06 2.06-.94-2.06-.94-.94-2.06-.94 2.06-2.06.94zm-11 1L8.5 8.5l.94-2.06 2.06-.94-2.06-.94L8.5 2.5l-.94 2.06-2.06.94zm10 10l.94 2.06.94-2.06 2.06-.94-2.06-.94-.94-2.06-.94 2.06-2.06.94z\"/><path d=\"M17.41 7.96l-1.37-1.37c-.4-.4-.92-.59-1.43-.59-.52 0-1.04.2-1.43.59L10.3 9.45l-7.72 7.72c-.78.78-.78 2.05 0 2.83L4 21.41c.39.39.9.59 1.41.59.51 0 1.02-.2 1.41-.59l7.78-7.78 2.81-2.81c.8-.78.8-2.07 0-2.86zM5.41 20L4 18.59l7.72-7.72 1.47 1.35L5.41 20z\"/>\n",
              "  </svg>\n",
              "      </button>\n",
              "      \n",
              "  <style>\n",
              "    .colab-df-container {\n",
              "      display:flex;\n",
              "      flex-wrap:wrap;\n",
              "      gap: 12px;\n",
              "    }\n",
              "\n",
              "    .colab-df-convert {\n",
              "      background-color: #E8F0FE;\n",
              "      border: none;\n",
              "      border-radius: 50%;\n",
              "      cursor: pointer;\n",
              "      display: none;\n",
              "      fill: #1967D2;\n",
              "      height: 32px;\n",
              "      padding: 0 0 0 0;\n",
              "      width: 32px;\n",
              "    }\n",
              "\n",
              "    .colab-df-convert:hover {\n",
              "      background-color: #E2EBFA;\n",
              "      box-shadow: 0px 1px 2px rgba(60, 64, 67, 0.3), 0px 1px 3px 1px rgba(60, 64, 67, 0.15);\n",
              "      fill: #174EA6;\n",
              "    }\n",
              "\n",
              "    [theme=dark] .colab-df-convert {\n",
              "      background-color: #3B4455;\n",
              "      fill: #D2E3FC;\n",
              "    }\n",
              "\n",
              "    [theme=dark] .colab-df-convert:hover {\n",
              "      background-color: #434B5C;\n",
              "      box-shadow: 0px 1px 3px 1px rgba(0, 0, 0, 0.15);\n",
              "      filter: drop-shadow(0px 1px 2px rgba(0, 0, 0, 0.3));\n",
              "      fill: #FFFFFF;\n",
              "    }\n",
              "  </style>\n",
              "\n",
              "      <script>\n",
              "        const buttonEl =\n",
              "          document.querySelector('#df-2ba51a3e-4f2b-48c2-8904-e0c8c8c280c6 button.colab-df-convert');\n",
              "        buttonEl.style.display =\n",
              "          google.colab.kernel.accessAllowed ? 'block' : 'none';\n",
              "\n",
              "        async function convertToInteractive(key) {\n",
              "          const element = document.querySelector('#df-2ba51a3e-4f2b-48c2-8904-e0c8c8c280c6');\n",
              "          const dataTable =\n",
              "            await google.colab.kernel.invokeFunction('convertToInteractive',\n",
              "                                                     [key], {});\n",
              "          if (!dataTable) return;\n",
              "\n",
              "          const docLinkHtml = 'Like what you see? Visit the ' +\n",
              "            '<a target=\"_blank\" href=https://colab.research.google.com/notebooks/data_table.ipynb>data table notebook</a>'\n",
              "            + ' to learn more about interactive tables.';\n",
              "          element.innerHTML = '';\n",
              "          dataTable['output_type'] = 'display_data';\n",
              "          await google.colab.output.renderOutput(dataTable, element);\n",
              "          const docLink = document.createElement('div');\n",
              "          docLink.innerHTML = docLinkHtml;\n",
              "          element.appendChild(docLink);\n",
              "        }\n",
              "      </script>\n",
              "    </div>\n",
              "  </div>\n",
              "  "
            ]
          },
          "metadata": {},
          "execution_count": 173
        }
      ]
    },
    {
      "cell_type": "code",
      "source": [
        "nilai_by_usaha = df_clustered.groupby(['Jenis Usaha', 'Cluster'])['Nilai Produksi'].mean().unstack()\n",
        "\n",
        "nilai_by_usaha"
      ],
      "metadata": {
        "colab": {
          "base_uri": "https://localhost:8080/",
          "height": 175
        },
        "id": "F2bYfb6eGkhC",
        "outputId": "00264ef6-8383-4b82-a20f-40e0e523d532"
      },
      "execution_count": null,
      "outputs": [
        {
          "output_type": "execute_result",
          "data": {
            "text/plain": [
              "Cluster                  0             1             2             3\n",
              "Jenis Usaha                                                         \n",
              "BUDIDAYA      5.914041e+09  1.834464e+08  1.464306e+09  2.356957e+09\n",
              "TANGKAP LAUT  4.993527e+09  1.061221e+08           NaN  1.976858e+09\n",
              "TANGKAP PUD            NaN  9.685308e+06           NaN           NaN"
            ],
            "text/html": [
              "\n",
              "  <div id=\"df-4719705c-a874-4c52-b8d1-021dcbf1ff56\">\n",
              "    <div class=\"colab-df-container\">\n",
              "      <div>\n",
              "<style scoped>\n",
              "    .dataframe tbody tr th:only-of-type {\n",
              "        vertical-align: middle;\n",
              "    }\n",
              "\n",
              "    .dataframe tbody tr th {\n",
              "        vertical-align: top;\n",
              "    }\n",
              "\n",
              "    .dataframe thead th {\n",
              "        text-align: right;\n",
              "    }\n",
              "</style>\n",
              "<table border=\"1\" class=\"dataframe\">\n",
              "  <thead>\n",
              "    <tr style=\"text-align: right;\">\n",
              "      <th>Cluster</th>\n",
              "      <th>0</th>\n",
              "      <th>1</th>\n",
              "      <th>2</th>\n",
              "      <th>3</th>\n",
              "    </tr>\n",
              "    <tr>\n",
              "      <th>Jenis Usaha</th>\n",
              "      <th></th>\n",
              "      <th></th>\n",
              "      <th></th>\n",
              "      <th></th>\n",
              "    </tr>\n",
              "  </thead>\n",
              "  <tbody>\n",
              "    <tr>\n",
              "      <th>BUDIDAYA</th>\n",
              "      <td>5.914041e+09</td>\n",
              "      <td>1.834464e+08</td>\n",
              "      <td>1.464306e+09</td>\n",
              "      <td>2.356957e+09</td>\n",
              "    </tr>\n",
              "    <tr>\n",
              "      <th>TANGKAP LAUT</th>\n",
              "      <td>4.993527e+09</td>\n",
              "      <td>1.061221e+08</td>\n",
              "      <td>NaN</td>\n",
              "      <td>1.976858e+09</td>\n",
              "    </tr>\n",
              "    <tr>\n",
              "      <th>TANGKAP PUD</th>\n",
              "      <td>NaN</td>\n",
              "      <td>9.685308e+06</td>\n",
              "      <td>NaN</td>\n",
              "      <td>NaN</td>\n",
              "    </tr>\n",
              "  </tbody>\n",
              "</table>\n",
              "</div>\n",
              "      <button class=\"colab-df-convert\" onclick=\"convertToInteractive('df-4719705c-a874-4c52-b8d1-021dcbf1ff56')\"\n",
              "              title=\"Convert this dataframe to an interactive table.\"\n",
              "              style=\"display:none;\">\n",
              "        \n",
              "  <svg xmlns=\"http://www.w3.org/2000/svg\" height=\"24px\"viewBox=\"0 0 24 24\"\n",
              "       width=\"24px\">\n",
              "    <path d=\"M0 0h24v24H0V0z\" fill=\"none\"/>\n",
              "    <path d=\"M18.56 5.44l.94 2.06.94-2.06 2.06-.94-2.06-.94-.94-2.06-.94 2.06-2.06.94zm-11 1L8.5 8.5l.94-2.06 2.06-.94-2.06-.94L8.5 2.5l-.94 2.06-2.06.94zm10 10l.94 2.06.94-2.06 2.06-.94-2.06-.94-.94-2.06-.94 2.06-2.06.94z\"/><path d=\"M17.41 7.96l-1.37-1.37c-.4-.4-.92-.59-1.43-.59-.52 0-1.04.2-1.43.59L10.3 9.45l-7.72 7.72c-.78.78-.78 2.05 0 2.83L4 21.41c.39.39.9.59 1.41.59.51 0 1.02-.2 1.41-.59l7.78-7.78 2.81-2.81c.8-.78.8-2.07 0-2.86zM5.41 20L4 18.59l7.72-7.72 1.47 1.35L5.41 20z\"/>\n",
              "  </svg>\n",
              "      </button>\n",
              "      \n",
              "  <style>\n",
              "    .colab-df-container {\n",
              "      display:flex;\n",
              "      flex-wrap:wrap;\n",
              "      gap: 12px;\n",
              "    }\n",
              "\n",
              "    .colab-df-convert {\n",
              "      background-color: #E8F0FE;\n",
              "      border: none;\n",
              "      border-radius: 50%;\n",
              "      cursor: pointer;\n",
              "      display: none;\n",
              "      fill: #1967D2;\n",
              "      height: 32px;\n",
              "      padding: 0 0 0 0;\n",
              "      width: 32px;\n",
              "    }\n",
              "\n",
              "    .colab-df-convert:hover {\n",
              "      background-color: #E2EBFA;\n",
              "      box-shadow: 0px 1px 2px rgba(60, 64, 67, 0.3), 0px 1px 3px 1px rgba(60, 64, 67, 0.15);\n",
              "      fill: #174EA6;\n",
              "    }\n",
              "\n",
              "    [theme=dark] .colab-df-convert {\n",
              "      background-color: #3B4455;\n",
              "      fill: #D2E3FC;\n",
              "    }\n",
              "\n",
              "    [theme=dark] .colab-df-convert:hover {\n",
              "      background-color: #434B5C;\n",
              "      box-shadow: 0px 1px 3px 1px rgba(0, 0, 0, 0.15);\n",
              "      filter: drop-shadow(0px 1px 2px rgba(0, 0, 0, 0.3));\n",
              "      fill: #FFFFFF;\n",
              "    }\n",
              "  </style>\n",
              "\n",
              "      <script>\n",
              "        const buttonEl =\n",
              "          document.querySelector('#df-4719705c-a874-4c52-b8d1-021dcbf1ff56 button.colab-df-convert');\n",
              "        buttonEl.style.display =\n",
              "          google.colab.kernel.accessAllowed ? 'block' : 'none';\n",
              "\n",
              "        async function convertToInteractive(key) {\n",
              "          const element = document.querySelector('#df-4719705c-a874-4c52-b8d1-021dcbf1ff56');\n",
              "          const dataTable =\n",
              "            await google.colab.kernel.invokeFunction('convertToInteractive',\n",
              "                                                     [key], {});\n",
              "          if (!dataTable) return;\n",
              "\n",
              "          const docLinkHtml = 'Like what you see? Visit the ' +\n",
              "            '<a target=\"_blank\" href=https://colab.research.google.com/notebooks/data_table.ipynb>data table notebook</a>'\n",
              "            + ' to learn more about interactive tables.';\n",
              "          element.innerHTML = '';\n",
              "          dataTable['output_type'] = 'display_data';\n",
              "          await google.colab.output.renderOutput(dataTable, element);\n",
              "          const docLink = document.createElement('div');\n",
              "          docLink.innerHTML = docLinkHtml;\n",
              "          element.appendChild(docLink);\n",
              "        }\n",
              "      </script>\n",
              "    </div>\n",
              "  </div>\n",
              "  "
            ]
          },
          "metadata": {},
          "execution_count": 174
        }
      ]
    },
    {
      "cell_type": "markdown",
      "source": [
        "- Cluster 0 produced BUDIDAYA and TANGKAP LAUT and generated most  of Volume and Nilai\n",
        "- Cluster 1 produced from all Jenis Usaha but generated only a little Volume and Nilai\n",
        "- Cluster 2 only produced from BUDIDAYA and generated high amount of Volume but only decent amount of Nilai\n",
        "- Cluster 3 produced from BUDIDAYA and TANGKAP LAUT and produced a decent amount of Volume and Nilai\n"
      ],
      "metadata": {
        "id": "Sisbe8z8JpOC"
      }
    },
    {
      "cell_type": "markdown",
      "source": [
        "## Inrerpet By Volume and Nilai of Jenis Ikan"
      ],
      "metadata": {
        "id": "b4diBhBBtZkB"
      }
    },
    {
      "cell_type": "code",
      "source": [
        "volume_by_ikan = df_clustered.groupby(['Jenis Ikan', 'Cluster'])['Volume Produksi'].mean().unstack()"
      ],
      "metadata": {
        "id": "FjlBqJwiJl9M"
      },
      "execution_count": null,
      "outputs": []
    },
    {
      "cell_type": "code",
      "source": [
        "nilai_by_ikan = df_clustered.groupby(['Jenis Ikan', 'Cluster'])['Nilai Produksi'].mean().unstack()"
      ],
      "metadata": {
        "id": "09HokcnYHAkW"
      },
      "execution_count": null,
      "outputs": []
    },
    {
      "cell_type": "code",
      "source": [
        "filter_volume_ikan = volume_by_ikan[(volume_by_ikan[0] > 4000) | \n",
        "                                    (volume_by_ikan[1] > 4000) | \n",
        "                                    (volume_by_ikan[2] > 4000) | \n",
        "                                    (volume_by_ikan[3] > 4000) ]"
      ],
      "metadata": {
        "id": "8wYK_qcevCqP"
      },
      "execution_count": null,
      "outputs": []
    },
    {
      "cell_type": "code",
      "source": [
        "filter_nilai_ikan = nilai_by_ikan[(nilai_by_ikan[0] > 7.997198e+07) | \n",
        "                                  (nilai_by_ikan[1] > 7.997198e+07) | \n",
        "                                  (nilai_by_ikan[2] > 7.997198e+07) | \n",
        "                                  (nilai_by_ikan[3] > 7.997198e+07) ]"
      ],
      "metadata": {
        "id": "e910ggakxj_d"
      },
      "execution_count": null,
      "outputs": []
    },
    {
      "cell_type": "markdown",
      "source": [
        "Because Jenis Ikan have a lot of unique value, we're going to only show the ones with average Volume and Nilai > Q3(75%)"
      ],
      "metadata": {
        "id": "U-bySnOSG3VH"
      }
    },
    {
      "cell_type": "code",
      "source": [
        "fig, axs = plt.subplots(ncols=2, figsize=(16,8))\n",
        "\n",
        "filter_volume_ikan.plot(kind='barh', stacked=True, ax = axs[0])\n",
        "axs[0].set_title('Volume Produksi by Jenis Ikan', fontsize=18, fontweight='bold')\n",
        "axs[0].set_ylabel('Jenis Ikan', fontsize=16, fontweight='bold')\n",
        "axs[0].set_xlabel('Volume Produksi', fontsize=16, fontweight='bold')\n",
        "\n",
        "filter_nilai_ikan.plot(kind='barh', stacked=True, ax = axs[1])\n",
        "axs[1].set_title('Nilai Produksi by Jenis Ikan', fontsize=18, fontweight='bold')\n",
        "axs[1].set_ylabel('Jenis Ikan', fontsize=16, fontweight='bold')\n",
        "axs[1].set_xlabel('Nilai Produksi', fontsize=16, fontweight='bold')\n",
        "\n",
        "plt.tight_layout()\n",
        "plt.show()"
      ],
      "metadata": {
        "colab": {
          "base_uri": "https://localhost:8080/",
          "height": 581
        },
        "id": "rUX-0njrt6V4",
        "outputId": "deee654b-ceb7-42c8-906f-6c7f9d5e5621"
      },
      "execution_count": null,
      "outputs": [
        {
          "output_type": "display_data",
          "data": {
            "text/plain": [
              "<Figure size 1152x576 with 2 Axes>"
            ],
            "image/png": "[encoded data removed]"
          },
          "metadata": {}
        }
      ]
    },
    {
      "cell_type": "markdown",
      "source": [
        "- Cluster 0 produced most of Jenis Ikan from Budidaya but also produced a lot of LAINNYA LAUT and produced a lot of Volume and Nilai\n",
        "- Cluster 1 produced most if not all of Jenis Ikan but only produced a little Volume and Nilai\n",
        "- Cluster 2 only produced RUMPUT LAUT but produced a lot of it although the Nilai isn't that much compared to it's Volume \n",
        "- Cluster 3 produced a variety of Jenis Ikan and made a decent amount of Volume and Nilai\n"
      ],
      "metadata": {
        "id": "1OeH0XsQ1B06"
      }
    },
    {
      "cell_type": "markdown",
      "source": [
        "## Conclusion For Labeling"
      ],
      "metadata": {
        "id": "7jF1ccU_tdK6"
      }
    },
    {
      "cell_type": "markdown",
      "source": [
        "Based on our interpretations above, we can conclude that:\n",
        "- Cluster 0 can be labeled as 'Potential Fish Production'\n",
        "- Cluster 1 can be labeled as 'High Variety Low Production'\n",
        "- Cluster 2 can be labeled as 'Potential Rumput Laut Production'\n",
        "- Cluster 3 can be labeled as 'Decent Fish Production'"
      ],
      "metadata": {
        "id": "8kxLG2st9HyI"
      }
    },
    {
      "cell_type": "markdown",
      "source": [
        "## Labeling"
      ],
      "metadata": {
        "id": "9Vg2mwEbFIi3"
      }
    },
    {
      "cell_type": "code",
      "source": [
        "labels_og = [0, 1, 2, 3]\n",
        "labels_final = ['Potential Fish Production', 'High Variety Low Production',\n",
        "                'Potential Rumput Laut Production', 'Decent Fish Production']\n",
        "map_dict = dict(zip(labels_og, labels_final))\n",
        "\n",
        "df_labeled = df_clustered.copy()\n",
        "df_labeled.drop(columns=['PCA1', 'PCA2'], inplace=True)\n",
        "\n",
        "df_labeled['Cluster'] = df_labeled['Cluster'].map(map_dict)"
      ],
      "metadata": {
        "id": "CKbFyp2TBL26"
      },
      "execution_count": null,
      "outputs": []
    },
    {
      "cell_type": "code",
      "source": [
        "df_labeled.sample(10)"
      ],
      "metadata": {
        "colab": {
          "base_uri": "https://localhost:8080/",
          "height": 363
        },
        "id": "RbKlTeNcBc-A",
        "outputId": "64512bd2-0e42-4611-a56a-140aea9027cb"
      },
      "execution_count": null,
      "outputs": [
        {
          "output_type": "execute_result",
          "data": {
            "text/plain": [
              "       Jenis Usaha     Provinsi        Jenis Ikan  Tahun  Volume Produksi  \\\n",
              "2686  TANGKAP LAUT   JAWA TIMUR             BAWAL   2015          9215.00   \n",
              "546       BUDIDAYA   JAWA BARAT  LAINNYA BUDIDAYA   2013         90092.04   \n",
              "1000      BUDIDAYA   JAWA TIMUR       RUMPUT LAUT   2020        699235.92   \n",
              "1694  TANGKAP LAUT  DKI JAKARTA       BIJI NANGKA   2020            96.36   \n",
              "2248  TANGKAP LAUT   JAWA BARAT           SUNGLIR   2021           581.75   \n",
              "643       BUDIDAYA   JAWA BARAT             UDANG   2021        178199.85   \n",
              "2869  TANGKAP LAUT   JAWA TIMUR           MAKEREL   2021            52.94   \n",
              "3751   TANGKAP PUD  JAWA TENGAH            BELIDA   2020            46.42   \n",
              "2111  TANGKAP LAUT   JAWA BARAT     KERONG-KERONG   2020             0.08   \n",
              "1078  TANGKAP LAUT       BANTEN             CUCUT   2014          1037.00   \n",
              "\n",
              "      Nilai Produksi                           Cluster  \n",
              "2686    1.581304e+08       High Variety Low Production  \n",
              "546     1.106689e+09       High Variety Low Production  \n",
              "1000    2.614811e+09  Potential Rumput Laut Production  \n",
              "1694    1.002645e+06       High Variety Low Production  \n",
              "2248    1.163935e+07       High Variety Low Production  \n",
              "643     1.350065e+10         Potential Fish Production  \n",
              "2869    1.223674e+06       High Variety Low Production  \n",
              "3751    6.962250e+02       High Variety Low Production  \n",
              "2111    7.500000e+02       High Variety Low Production  \n",
              "1078    1.201801e+07       High Variety Low Production  "
            ],
            "text/html": [
              "\n",
              "  <div id=\"df-68137e75-1ac0-476b-806e-d490bff28251\">\n",
              "    <div class=\"colab-df-container\">\n",
              "      <div>\n",
              "<style scoped>\n",
              "    .dataframe tbody tr th:only-of-type {\n",
              "        vertical-align: middle;\n",
              "    }\n",
              "\n",
              "    .dataframe tbody tr th {\n",
              "        vertical-align: top;\n",
              "    }\n",
              "\n",
              "    .dataframe thead th {\n",
              "        text-align: right;\n",
              "    }\n",
              "</style>\n",
              "<table border=\"1\" class=\"dataframe\">\n",
              "  <thead>\n",
              "    <tr style=\"text-align: right;\">\n",
              "      <th></th>\n",
              "      <th>Jenis Usaha</th>\n",
              "      <th>Provinsi</th>\n",
              "      <th>Jenis Ikan</th>\n",
              "      <th>Tahun</th>\n",
              "      <th>Volume Produksi</th>\n",
              "      <th>Nilai Produksi</th>\n",
              "      <th>Cluster</th>\n",
              "    </tr>\n",
              "  </thead>\n",
              "  <tbody>\n",
              "    <tr>\n",
              "      <th>2686</th>\n",
              "      <td>TANGKAP LAUT</td>\n",
              "      <td>JAWA TIMUR</td>\n",
              "      <td>BAWAL</td>\n",
              "      <td>2015</td>\n",
              "      <td>9215.00</td>\n",
              "      <td>1.581304e+08</td>\n",
              "      <td>High Variety Low Production</td>\n",
              "    </tr>\n",
              "    <tr>\n",
              "      <th>546</th>\n",
              "      <td>BUDIDAYA</td>\n",
              "      <td>JAWA BARAT</td>\n",
              "      <td>LAINNYA BUDIDAYA</td>\n",
              "      <td>2013</td>\n",
              "      <td>90092.04</td>\n",
              "      <td>1.106689e+09</td>\n",
              "      <td>High Variety Low Production</td>\n",
              "    </tr>\n",
              "    <tr>\n",
              "      <th>1000</th>\n",
              "      <td>BUDIDAYA</td>\n",
              "      <td>JAWA TIMUR</td>\n",
              "      <td>RUMPUT LAUT</td>\n",
              "      <td>2020</td>\n",
              "      <td>699235.92</td>\n",
              "      <td>2.614811e+09</td>\n",
              "      <td>Potential Rumput Laut Production</td>\n",
              "    </tr>\n",
              "    <tr>\n",
              "      <th>1694</th>\n",
              "      <td>TANGKAP LAUT</td>\n",
              "      <td>DKI JAKARTA</td>\n",
              "      <td>BIJI NANGKA</td>\n",
              "      <td>2020</td>\n",
              "      <td>96.36</td>\n",
              "      <td>1.002645e+06</td>\n",
              "      <td>High Variety Low Production</td>\n",
              "    </tr>\n",
              "    <tr>\n",
              "      <th>2248</th>\n",
              "      <td>TANGKAP LAUT</td>\n",
              "      <td>JAWA BARAT</td>\n",
              "      <td>SUNGLIR</td>\n",
              "      <td>2021</td>\n",
              "      <td>581.75</td>\n",
              "      <td>1.163935e+07</td>\n",
              "      <td>High Variety Low Production</td>\n",
              "    </tr>\n",
              "    <tr>\n",
              "      <th>643</th>\n",
              "      <td>BUDIDAYA</td>\n",
              "      <td>JAWA BARAT</td>\n",
              "      <td>UDANG</td>\n",
              "      <td>2021</td>\n",
              "      <td>178199.85</td>\n",
              "      <td>1.350065e+10</td>\n",
              "      <td>Potential Fish Production</td>\n",
              "    </tr>\n",
              "    <tr>\n",
              "      <th>2869</th>\n",
              "      <td>TANGKAP LAUT</td>\n",
              "      <td>JAWA TIMUR</td>\n",
              "      <td>MAKEREL</td>\n",
              "      <td>2021</td>\n",
              "      <td>52.94</td>\n",
              "      <td>1.223674e+06</td>\n",
              "      <td>High Variety Low Production</td>\n",
              "    </tr>\n",
              "    <tr>\n",
              "      <th>3751</th>\n",
              "      <td>TANGKAP PUD</td>\n",
              "      <td>JAWA TENGAH</td>\n",
              "      <td>BELIDA</td>\n",
              "      <td>2020</td>\n",
              "      <td>46.42</td>\n",
              "      <td>6.962250e+02</td>\n",
              "      <td>High Variety Low Production</td>\n",
              "    </tr>\n",
              "    <tr>\n",
              "      <th>2111</th>\n",
              "      <td>TANGKAP LAUT</td>\n",
              "      <td>JAWA BARAT</td>\n",
              "      <td>KERONG-KERONG</td>\n",
              "      <td>2020</td>\n",
              "      <td>0.08</td>\n",
              "      <td>7.500000e+02</td>\n",
              "      <td>High Variety Low Production</td>\n",
              "    </tr>\n",
              "    <tr>\n",
              "      <th>1078</th>\n",
              "      <td>TANGKAP LAUT</td>\n",
              "      <td>BANTEN</td>\n",
              "      <td>CUCUT</td>\n",
              "      <td>2014</td>\n",
              "      <td>1037.00</td>\n",
              "      <td>1.201801e+07</td>\n",
              "      <td>High Variety Low Production</td>\n",
              "    </tr>\n",
              "  </tbody>\n",
              "</table>\n",
              "</div>\n",
              "      <button class=\"colab-df-convert\" onclick=\"convertToInteractive('df-68137e75-1ac0-476b-806e-d490bff28251')\"\n",
              "              title=\"Convert this dataframe to an interactive table.\"\n",
              "              style=\"display:none;\">\n",
              "        \n",
              "  <svg xmlns=\"http://www.w3.org/2000/svg\" height=\"24px\"viewBox=\"0 0 24 24\"\n",
              "       width=\"24px\">\n",
              "    <path d=\"M0 0h24v24H0V0z\" fill=\"none\"/>\n",
              "    <path d=\"M18.56 5.44l.94 2.06.94-2.06 2.06-.94-2.06-.94-.94-2.06-.94 2.06-2.06.94zm-11 1L8.5 8.5l.94-2.06 2.06-.94-2.06-.94L8.5 2.5l-.94 2.06-2.06.94zm10 10l.94 2.06.94-2.06 2.06-.94-2.06-.94-.94-2.06-.94 2.06-2.06.94z\"/><path d=\"M17.41 7.96l-1.37-1.37c-.4-.4-.92-.59-1.43-.59-.52 0-1.04.2-1.43.59L10.3 9.45l-7.72 7.72c-.78.78-.78 2.05 0 2.83L4 21.41c.39.39.9.59 1.41.59.51 0 1.02-.2 1.41-.59l7.78-7.78 2.81-2.81c.8-.78.8-2.07 0-2.86zM5.41 20L4 18.59l7.72-7.72 1.47 1.35L5.41 20z\"/>\n",
              "  </svg>\n",
              "      </button>\n",
              "      \n",
              "  <style>\n",
              "    .colab-df-container {\n",
              "      display:flex;\n",
              "      flex-wrap:wrap;\n",
              "      gap: 12px;\n",
              "    }\n",
              "\n",
              "    .colab-df-convert {\n",
              "      background-color: #E8F0FE;\n",
              "      border: none;\n",
              "      border-radius: 50%;\n",
              "      cursor: pointer;\n",
              "      display: none;\n",
              "      fill: #1967D2;\n",
              "      height: 32px;\n",
              "      padding: 0 0 0 0;\n",
              "      width: 32px;\n",
              "    }\n",
              "\n",
              "    .colab-df-convert:hover {\n",
              "      background-color: #E2EBFA;\n",
              "      box-shadow: 0px 1px 2px rgba(60, 64, 67, 0.3), 0px 1px 3px 1px rgba(60, 64, 67, 0.15);\n",
              "      fill: #174EA6;\n",
              "    }\n",
              "\n",
              "    [theme=dark] .colab-df-convert {\n",
              "      background-color: #3B4455;\n",
              "      fill: #D2E3FC;\n",
              "    }\n",
              "\n",
              "    [theme=dark] .colab-df-convert:hover {\n",
              "      background-color: #434B5C;\n",
              "      box-shadow: 0px 1px 3px 1px rgba(0, 0, 0, 0.15);\n",
              "      filter: drop-shadow(0px 1px 2px rgba(0, 0, 0, 0.3));\n",
              "      fill: #FFFFFF;\n",
              "    }\n",
              "  </style>\n",
              "\n",
              "      <script>\n",
              "        const buttonEl =\n",
              "          document.querySelector('#df-68137e75-1ac0-476b-806e-d490bff28251 button.colab-df-convert');\n",
              "        buttonEl.style.display =\n",
              "          google.colab.kernel.accessAllowed ? 'block' : 'none';\n",
              "\n",
              "        async function convertToInteractive(key) {\n",
              "          const element = document.querySelector('#df-68137e75-1ac0-476b-806e-d490bff28251');\n",
              "          const dataTable =\n",
              "            await google.colab.kernel.invokeFunction('convertToInteractive',\n",
              "                                                     [key], {});\n",
              "          if (!dataTable) return;\n",
              "\n",
              "          const docLinkHtml = 'Like what you see? Visit the ' +\n",
              "            '<a target=\"_blank\" href=https://colab.research.google.com/notebooks/data_table.ipynb>data table notebook</a>'\n",
              "            + ' to learn more about interactive tables.';\n",
              "          element.innerHTML = '';\n",
              "          dataTable['output_type'] = 'display_data';\n",
              "          await google.colab.output.renderOutput(dataTable, element);\n",
              "          const docLink = document.createElement('div');\n",
              "          docLink.innerHTML = docLinkHtml;\n",
              "          element.appendChild(docLink);\n",
              "        }\n",
              "      </script>\n",
              "    </div>\n",
              "  </div>\n",
              "  "
            ]
          },
          "metadata": {},
          "execution_count": 188
        }
      ]
    }
  ]
}